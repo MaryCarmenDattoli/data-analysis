{
  "cells": [
    {
      "cell_type": "markdown",
      "id": "3Xg_RQfnafXz",
      "metadata": {
        "id": "3Xg_RQfnafXz"
      },
      "source": [
        "# ¡Llena ese carrito!"
      ]
    },
    {
      "cell_type": "markdown",
      "id": "mhIvmmkW414q",
      "metadata": {
        "id": "mhIvmmkW414q"
      },
      "source": [
        "# Introducción\n",
        "\n",
        "Instacart es una plataforma de entregas de comestibles donde la clientela puede registrar un pedido y hacer que se lo entreguen, similar a Uber Eats y Door Dash.\n",
        "El conjunto de datos que te hemos proporcionado tiene modificaciones del original. Redujimos el tamaño del conjunto para que tus cálculos se hicieran más rápido e introdujimos valores ausentes y duplicados. Tuvimos cuidado de conservar las distribuciones de los datos originales cuando hicimos los cambios.\n",
        "\n",
        "Debes completar tres pasos. Para cada uno de ellos, escribe una breve introducción que refleje con claridad cómo pretendes resolver cada paso, y escribe párrafos explicatorios que justifiquen tus decisiones al tiempo que avanzas en tu solución.  También escribe una conclusión que resuma tus hallazgos y elecciones.\n"
      ]
    },
    {
      "cell_type": "markdown",
      "id": "3MbyzpOQZ5Or",
      "metadata": {
        "id": "3MbyzpOQZ5Or"
      },
      "source": [
        "## Diccionario de datos\n",
        "\n",
        "Hay cinco tablas en el conjunto de datos, y tendrás que usarlas todas para hacer el preprocesamiento de datos y el análisis exploratorio de datos. A continuación se muestra un diccionario de datos que enumera las columnas de cada tabla y describe los datos que contienen.\n",
        "\n",
        "- `instacart_orders.csv`: cada fila corresponde a un pedido en la aplicación Instacart.\n",
        "    - `'order_id'`: número de ID que identifica de manera única cada pedido.\n",
        "    - `'user_id'`: número de ID que identifica de manera única la cuenta de cada cliente.\n",
        "    - `'order_number'`: el número de veces que este cliente ha hecho un pedido.\n",
        "    - `'order_dow'`: día de la semana en que se hizo el pedido (0 si es domingo).\n",
        "    - `'order_hour_of_day'`: hora del día en que se hizo el pedido.\n",
        "    - `'days_since_prior_order'`: número de días transcurridos desde que este cliente hizo su pedido anterior.\n",
        "- `products.csv`: cada fila corresponde a un producto único que pueden comprar los clientes.\n",
        "    - `'product_id'`: número ID que identifica de manera única cada producto.\n",
        "    - `'product_name'`: nombre del producto.\n",
        "    - `'aisle_id'`: número ID que identifica de manera única cada categoría de pasillo de víveres.\n",
        "    - `'department_id'`: número ID que identifica de manera única cada departamento de víveres.\n",
        "- `order_products.csv`: cada fila corresponde a un artículo pedido en un pedido.\n",
        "    - `'order_id'`: número de ID que identifica de manera única cada pedido.\n",
        "    - `'product_id'`: número ID que identifica de manera única cada producto.\n",
        "    - `'add_to_cart_order'`: el orden secuencial en el que se añadió cada artículo en el carrito.\n",
        "    - `'reordered'`: 0 si el cliente nunca ha pedido este producto antes, 1 si lo ha pedido.\n",
        "- `aisles.csv`\n",
        "    - `'aisle_id'`: número ID que identifica de manera única cada categoría de pasillo de víveres.\n",
        "    - `'aisle'`: nombre del pasillo.\n",
        "- `departments.csv`\n",
        "    - `'department_id'`: número ID que identifica de manera única cada departamento de víveres.\n",
        "    - `'department'`: nombre del departamento."
      ]
    },
    {
      "cell_type": "markdown",
      "id": "n3Ha_cNSZ8lK",
      "metadata": {
        "id": "n3Ha_cNSZ8lK"
      },
      "source": [
        "# Paso 1. Descripción de los datos\n",
        "\n",
        "Lee los archivos de datos (`/datasets/instacart_orders.csv`, `/datasets/products.csv`, `/datasets/aisles.csv`, `/datasets/departments.csv` y `/datasets/order_products.csv`) con `pd.read_csv()` usando los parámetros adecuados para leer los datos correctamente. Verifica la información para cada DataFrame creado.\n"
      ]
    },
    {
      "cell_type": "markdown",
      "id": "OmlQPLlyaAfR",
      "metadata": {
        "id": "OmlQPLlyaAfR"
      },
      "source": [
        "## Plan de solución\n",
        "<div style=\"background-color:#d4edda; padding: 10px; border-radius: 5px;\"> Escribe aquí tu plan de solución para el Paso 1. Descripción de los datos.\n",
        "\n",
        "<div style=\"background-color:#d4edda; padding: 10px; border-radius: 5px;\"> Los datos no estaban separados por coma, por lo que se debió especificar el separador \";\" en el parámetro sep = al momento de leer los DF"
      ]
    },
    {
      "cell_type": "code",
      "execution_count": null,
      "id": "fbf1adab",
      "metadata": {
        "id": "fbf1adab"
      },
      "outputs": [],
      "source": [
        "# importar librerías\n",
        "import pandas as pd\n",
        "from matplotlib import pyplot as plt"
      ]
    },
    {
      "cell_type": "code",
      "execution_count": null,
      "id": "ad36396d",
      "metadata": {
        "id": "ad36396d",
        "outputId": "de086551-b2b6-4591-df57-d01b9177191a"
      },
      "outputs": [
        {
          "name": "stdout",
          "output_type": "stream",
          "text": [
            "   aisle_id                       aisle\n",
            "0         1       prepared soups salads\n",
            "1         2           specialty cheeses\n",
            "2         3         energy granola bars\n",
            "3         4               instant foods\n",
            "4         5  marinades meat preparation\n",
            "____________________________________________________________________________________________________\n",
            "   department_id department\n",
            "0              1     frozen\n",
            "1              2      other\n",
            "2              3     bakery\n",
            "3              4    produce\n",
            "4              5    alcohol\n",
            "____________________________________________________________________________________________________\n",
            "   order_id  user_id  order_number  order_dow  order_hour_of_day  \\\n",
            "0   1515936   183418            11          6                 13   \n",
            "1   1690866   163593             5          5                 12   \n",
            "2   1454967    39980             4          5                 19   \n",
            "3   1768857    82516            56          0                 20   \n",
            "4   3007858   196724             2          4                 12   \n",
            "\n",
            "   days_since_prior_order  \n",
            "0                    30.0  \n",
            "1                     9.0  \n",
            "2                     2.0  \n",
            "3                    10.0  \n",
            "4                    17.0  \n",
            "____________________________________________________________________________________________________\n",
            "   order_id  product_id  add_to_cart_order  reordered\n",
            "0   2141543       11440               17.0          0\n",
            "1    567889        1560                1.0          1\n",
            "2   2261212       26683                1.0          1\n",
            "3    491251        8670               35.0          1\n",
            "4   2571142        1940                5.0          1\n",
            "____________________________________________________________________________________________________\n",
            "   product_id                                       product_name  aisle_id  \\\n",
            "0           1                         Chocolate Sandwich Cookies        61   \n",
            "1           2                                   All-Seasons Salt       104   \n",
            "2           3               Robust Golden Unsweetened Oolong Tea        94   \n",
            "3           4  Smart Ones Classic Favorites Mini Rigatoni Wit...        38   \n",
            "4           5                          Green Chile Anytime Sauce         5   \n",
            "\n",
            "   department_id  \n",
            "0             19  \n",
            "1             13  \n",
            "2              7  \n",
            "3              1  \n",
            "4             13  \n"
          ]
        }
      ],
      "source": [
        "# leer conjuntos de datos en los DataFrames\n",
        "aisles = pd.read_csv('/datasets/aisles.csv', sep=';')\n",
        "departments = pd.read_csv('/datasets/departments.csv', sep=';')\n",
        "orders = pd.read_csv('/datasets/instacart_orders.csv', sep=';')\n",
        "order_products = pd.read_csv('/datasets/order_products.csv', sep=';')\n",
        "products = pd.read_csv('/datasets/products.csv', sep=';')\n",
        "\n",
        "# Imprimo las 5 primeras filas de los DF para tener un vistazo del contenido y entender mejor cómo se representan los datos en las columnas\n",
        "print(aisles.head())\n",
        "print('_'*100)\n",
        "print(departments.head())\n",
        "print('_'*100)\n",
        "print(orders.head())\n",
        "print('_'*100)\n",
        "print(order_products.head())\n",
        "print('_'*100)\n",
        "print(products.head())"
      ]
    },
    {
      "cell_type": "code",
      "execution_count": null,
      "id": "ad6a1efa",
      "metadata": {
        "id": "ad6a1efa",
        "outputId": "6d3901c7-a757-4d67-c6d7-8f32793f6b9f"
      },
      "outputs": [
        {
          "name": "stdout",
          "output_type": "stream",
          "text": [
            "<class 'pandas.core.frame.DataFrame'>\n",
            "RangeIndex: 134 entries, 0 to 133\n",
            "Data columns (total 2 columns):\n",
            " #   Column    Non-Null Count  Dtype \n",
            "---  ------    --------------  ----- \n",
            " 0   aisle_id  134 non-null    int64 \n",
            " 1   aisle     134 non-null    object\n",
            "dtypes: int64(1), object(1)\n",
            "memory usage: 2.2+ KB\n"
          ]
        }
      ],
      "source": [
        "# mostrar información del DataFrame\n",
        "aisles.info(show_counts=True)"
      ]
    },
    {
      "cell_type": "code",
      "execution_count": null,
      "id": "5130e05e",
      "metadata": {
        "id": "5130e05e",
        "outputId": "5df1c084-7dcc-49a9-cc8d-bdc80ac63028"
      },
      "outputs": [
        {
          "name": "stdout",
          "output_type": "stream",
          "text": [
            "<class 'pandas.core.frame.DataFrame'>\n",
            "RangeIndex: 21 entries, 0 to 20\n",
            "Data columns (total 2 columns):\n",
            " #   Column         Non-Null Count  Dtype \n",
            "---  ------         --------------  ----- \n",
            " 0   department_id  21 non-null     int64 \n",
            " 1   department     21 non-null     object\n",
            "dtypes: int64(1), object(1)\n",
            "memory usage: 464.0+ bytes\n"
          ]
        }
      ],
      "source": [
        "# mostrar información del DataFrame\n",
        "departments.info(show_counts=True)"
      ]
    },
    {
      "cell_type": "code",
      "execution_count": null,
      "id": "d8370c05",
      "metadata": {
        "id": "d8370c05",
        "outputId": "840b3aee-c909-4853-ffd8-5846d92f666b"
      },
      "outputs": [
        {
          "name": "stdout",
          "output_type": "stream",
          "text": [
            "<class 'pandas.core.frame.DataFrame'>\n",
            "RangeIndex: 478967 entries, 0 to 478966\n",
            "Data columns (total 6 columns):\n",
            " #   Column                  Non-Null Count   Dtype  \n",
            "---  ------                  --------------   -----  \n",
            " 0   order_id                478967 non-null  int64  \n",
            " 1   user_id                 478967 non-null  int64  \n",
            " 2   order_number            478967 non-null  int64  \n",
            " 3   order_dow               478967 non-null  int64  \n",
            " 4   order_hour_of_day       478967 non-null  int64  \n",
            " 5   days_since_prior_order  450148 non-null  float64\n",
            "dtypes: float64(1), int64(5)\n",
            "memory usage: 21.9 MB\n"
          ]
        }
      ],
      "source": [
        "# mostrar información del DataFrame\n",
        "orders.info(show_counts=True)"
      ]
    },
    {
      "cell_type": "code",
      "execution_count": null,
      "id": "59e2090f",
      "metadata": {
        "id": "59e2090f",
        "outputId": "d6b3a9c2-070f-4ee4-a28b-27191f44b169"
      },
      "outputs": [
        {
          "name": "stdout",
          "output_type": "stream",
          "text": [
            "<class 'pandas.core.frame.DataFrame'>\n",
            "RangeIndex: 4545007 entries, 0 to 4545006\n",
            "Data columns (total 4 columns):\n",
            " #   Column             Non-Null Count    Dtype  \n",
            "---  ------             --------------    -----  \n",
            " 0   order_id           4545007 non-null  int64  \n",
            " 1   product_id         4545007 non-null  int64  \n",
            " 2   add_to_cart_order  4544171 non-null  float64\n",
            " 3   reordered          4545007 non-null  int64  \n",
            "dtypes: float64(1), int64(3)\n",
            "memory usage: 138.7 MB\n"
          ]
        }
      ],
      "source": [
        "# mostrar información del DataFrame\n",
        "order_products.info(show_counts=True)"
      ]
    },
    {
      "cell_type": "code",
      "execution_count": null,
      "id": "6fc81694",
      "metadata": {
        "id": "6fc81694",
        "outputId": "22fd9b08-6e0f-4327-83f8-b69798fa476e"
      },
      "outputs": [
        {
          "name": "stdout",
          "output_type": "stream",
          "text": [
            "<class 'pandas.core.frame.DataFrame'>\n",
            "RangeIndex: 49694 entries, 0 to 49693\n",
            "Data columns (total 4 columns):\n",
            " #   Column         Non-Null Count  Dtype \n",
            "---  ------         --------------  ----- \n",
            " 0   product_id     49694 non-null  int64 \n",
            " 1   product_name   48436 non-null  object\n",
            " 2   aisle_id       49694 non-null  int64 \n",
            " 3   department_id  49694 non-null  int64 \n",
            "dtypes: int64(3), object(1)\n",
            "memory usage: 1.5+ MB\n"
          ]
        }
      ],
      "source": [
        "# mostrar información del DataFrame\n",
        "products.info(show_counts=True)"
      ]
    },
    {
      "cell_type": "markdown",
      "id": "t75BD19oaR5f",
      "metadata": {
        "id": "t75BD19oaR5f"
      },
      "source": [
        "## Conclusiones\n",
        "\n",
        "<div style=\"background-color:#d4edda; padding: 10px; border-radius: 5px;\">Escribe aquí tus conclusiones intermedias sobre el Paso 1. Descripción de los datos.\n",
        "\n",
        "Hay valores nulos en algunos de los DF: Debemos analizarlos y verificar si son relevantes para el análisis final.\n",
        "- orders; columna days_since_prior_order.\n",
        "- order_products; columna add_to_cart_order,\n",
        "- products; columna product_name, tipo de datos object (categóricos)\n",
        "    \n",
        "    \n"
      ]
    },
    {
      "cell_type": "markdown",
      "id": "8RJHqxVmaVsF",
      "metadata": {
        "id": "8RJHqxVmaVsF"
      },
      "source": [
        "# Paso 2. Preprocesamiento de los datos\n",
        "\n",
        "Preprocesa los datos de la siguiente manera:\n",
        "\n",
        "- Verifica y corrige los tipos de datos (por ejemplo, asegúrate de que las columnas de ID sean números enteros).\n",
        "- Identifica y completa los valores ausentes.\n",
        "- Identifica y elimina los valores duplicados.\n",
        "\n",
        "Asegúrate de explicar qué tipos de valores ausentes y duplicados encontraste, cómo los completaste o eliminaste y por qué usaste esos métodos. ¿Por qué crees que estos valores ausentes y duplicados pueden haber estado presentes en el conjunto de datos?"
      ]
    },
    {
      "cell_type": "markdown",
      "id": "p6poABZQaZYb",
      "metadata": {
        "id": "p6poABZQaZYb"
      },
      "source": [
        "<div style=\"background-color:#d4edda; padding: 10px; border-radius: 5px;\">\n",
        "    \n",
        "## Plan de solución\n",
        "\n",
        "Escribe aquí tu plan para el Paso 2. Preprocesamiento de los datos.\n",
        "### 1. Verificación y corrección de tipos de datos\n",
        "Los tipos de datos en las columnas ID son todos correctos. Los datos que son float no perjudican el análisis final y veremos más adelante si es necesario convertirlos a entero.\n",
        "\n",
        "### 2. Hallazgo y tratamiento de datos duplicados\n",
        "Se deben verificar los DF para analizar si hay datos duplicados y si son explícitos o implícitos y decidir qué hacer con ellos en cada caso.\n",
        "\n",
        "### 3. Identificación y tratamiento de valores ausentes\n",
        "1. orders; columna days_since_prior_order.  \n",
        "    Esta columna se refiere al número de días transcurridos desde que este cliente hizo su pedido, por lo que podemos inferir que un valor ausente signifique que el usuario no había realizado compras anteriores. Es decir, es su primera compra. El NaN indica “no existe pedido previo”.\n",
        "\n",
        "   *Mantenerlo conserva semántica*\n",
        "2. order_products; columna add_to_cart_order.  \n",
        "   Esta columna se refiere a el orden secuencial en el que se añadió cada artículo en el carrito. Si aparece NA será error de origen.\n",
        "\n",
        "   *Eliminar fila*\n",
        "\n",
        "3. products; product_name.\n",
        "   Esta columna nos da el nombre del producto. Si hay NaN, se debería investigar porqué y completar manualmente con “Unknown”.\n",
        "\n",
        "   *Completar con “Unknown”*\n",
        "   "
      ]
    },
    {
      "cell_type": "markdown",
      "id": "07357848-dc64-4156-9cc3-01ff4365226d",
      "metadata": {
        "id": "07357848-dc64-4156-9cc3-01ff4365226d"
      },
      "source": [
        "## Encuentra y elimina los valores duplicados (y describe cómo tomaste tus decisiones)."
      ]
    },
    {
      "cell_type": "markdown",
      "id": "f179f0a9",
      "metadata": {
        "id": "f179f0a9"
      },
      "source": [
        "### `orders` data frame"
      ]
    },
    {
      "cell_type": "code",
      "execution_count": null,
      "id": "b99297a5-405a-463d-8535-9adc3da4ad74",
      "metadata": {
        "id": "b99297a5-405a-463d-8535-9adc3da4ad74",
        "outputId": "699e787c-0714-462d-e3fa-b0cbd19dd0c5"
      },
      "outputs": [
        {
          "name": "stdout",
          "output_type": "stream",
          "text": [
            "15\n"
          ]
        },
        {
          "data": {
            "text/html": [
              "<div>\n",
              "<style scoped>\n",
              "    .dataframe tbody tr th:only-of-type {\n",
              "        vertical-align: middle;\n",
              "    }\n",
              "\n",
              "    .dataframe tbody tr th {\n",
              "        vertical-align: top;\n",
              "    }\n",
              "\n",
              "    .dataframe thead th {\n",
              "        text-align: right;\n",
              "    }\n",
              "</style>\n",
              "<table border=\"1\" class=\"dataframe\">\n",
              "  <thead>\n",
              "    <tr style=\"text-align: right;\">\n",
              "      <th></th>\n",
              "      <th>order_id</th>\n",
              "      <th>user_id</th>\n",
              "      <th>order_number</th>\n",
              "      <th>order_dow</th>\n",
              "      <th>order_hour_of_day</th>\n",
              "      <th>days_since_prior_order</th>\n",
              "    </tr>\n",
              "  </thead>\n",
              "  <tbody>\n",
              "    <tr>\n",
              "      <th>354993</th>\n",
              "      <td>391768</td>\n",
              "      <td>57671</td>\n",
              "      <td>19</td>\n",
              "      <td>3</td>\n",
              "      <td>2</td>\n",
              "      <td>10.0</td>\n",
              "    </tr>\n",
              "    <tr>\n",
              "      <th>371905</th>\n",
              "      <td>391768</td>\n",
              "      <td>57671</td>\n",
              "      <td>19</td>\n",
              "      <td>3</td>\n",
              "      <td>2</td>\n",
              "      <td>10.0</td>\n",
              "    </tr>\n",
              "    <tr>\n",
              "      <th>119251</th>\n",
              "      <td>408114</td>\n",
              "      <td>68324</td>\n",
              "      <td>4</td>\n",
              "      <td>3</td>\n",
              "      <td>2</td>\n",
              "      <td>18.0</td>\n",
              "    </tr>\n",
              "    <tr>\n",
              "      <th>321100</th>\n",
              "      <td>408114</td>\n",
              "      <td>68324</td>\n",
              "      <td>4</td>\n",
              "      <td>3</td>\n",
              "      <td>2</td>\n",
              "      <td>18.0</td>\n",
              "    </tr>\n",
              "    <tr>\n",
              "      <th>394347</th>\n",
              "      <td>467134</td>\n",
              "      <td>63189</td>\n",
              "      <td>21</td>\n",
              "      <td>3</td>\n",
              "      <td>2</td>\n",
              "      <td>2.0</td>\n",
              "    </tr>\n",
              "  </tbody>\n",
              "</table>\n",
              "</div>"
            ],
            "text/plain": [
              "        order_id  user_id  order_number  order_dow  order_hour_of_day  \\\n",
              "354993    391768    57671            19          3                  2   \n",
              "371905    391768    57671            19          3                  2   \n",
              "119251    408114    68324             4          3                  2   \n",
              "321100    408114    68324             4          3                  2   \n",
              "394347    467134    63189            21          3                  2   \n",
              "\n",
              "        days_since_prior_order  \n",
              "354993                    10.0  \n",
              "371905                    10.0  \n",
              "119251                    18.0  \n",
              "321100                    18.0  \n",
              "394347                     2.0  "
            ]
          },
          "execution_count": 8,
          "metadata": {},
          "output_type": "execute_result"
        }
      ],
      "source": [
        "# Revisa si hay pedidos duplicados\n",
        "print(orders.duplicated().sum())\n",
        "dups = orders[orders.duplicated(keep=False)].sort_values('order_id')\n",
        "dups.head()"
      ]
    },
    {
      "cell_type": "markdown",
      "id": "PEkwUX_gvt5A",
      "metadata": {
        "id": "PEkwUX_gvt5A"
      },
      "source": [
        "¿Tienes líneas duplicadas? Si sí, ¿qué tienen en común?  \n",
        "<div style=\"background-color:#d4edda; padding: 10px; border-radius: 5px;\">R. El order_id y user_id se repiten en todos los duplicados, por lo que puede ser un error en la recolección de datos."
      ]
    },
    {
      "cell_type": "code",
      "execution_count": null,
      "id": "0d44de5d",
      "metadata": {
        "id": "0d44de5d",
        "outputId": "ec4910f7-1be1-48b4-96eb-20d96cd7fc9a"
      },
      "outputs": [
        {
          "name": "stdout",
          "output_type": "stream",
          "text": [
            "        order_id  user_id  order_number  order_dow  order_hour_of_day  \\\n",
            "354993    391768    57671            19          3                  2   \n",
            "371905    391768    57671            19          3                  2   \n",
            "119251    408114    68324             4          3                  2   \n",
            "321100    408114    68324             4          3                  2   \n",
            "394347    467134    63189            21          3                  2   \n",
            "250626    467134    63189            21          3                  2   \n",
            "99462     794638    50898            24          3                  2   \n",
            "145574    794638    50898            24          3                  2   \n",
            "311713   1021560    53767             3          3                  2   \n",
            "242618   1021560    53767             3          3                  2   \n",
            "164581   1112182   202304            84          3                  2   \n",
            "273805   1112182   202304            84          3                  2   \n",
            "314427   1286742   183220            48          3                  2   \n",
            "411408   1286742   183220            48          3                  2   \n",
            "266232   1782114   106752             1          3                  2   \n",
            "200059   1782114   106752             1          3                  2   \n",
            "230807   1918001   188546            14          3                  2   \n",
            "30371    1918001   188546            14          3                  2   \n",
            "257934   1919531   191501            32          3                  2   \n",
            "323900   1919531   191501            32          3                  2   \n",
            "441599   2125197    14050            48          3                  2   \n",
            "204042   2125197    14050            48          3                  2   \n",
            "223105   2160484   107525            16          3                  2   \n",
            "215294   2160484   107525            16          3                  2   \n",
            "324868   2232988    82565             1          3                  2   \n",
            "345917   2232988    82565             1          3                  2   \n",
            "415163   2282673    86751            49          3                  2   \n",
            "259636   2282673    86751            49          3                  2   \n",
            "142258   2845099    31189            11          3                  2   \n",
            "284038   2845099    31189            11          3                  2   \n",
            "\n",
            "        days_since_prior_order  \n",
            "354993                    10.0  \n",
            "371905                    10.0  \n",
            "119251                    18.0  \n",
            "321100                    18.0  \n",
            "394347                     2.0  \n",
            "250626                     2.0  \n",
            "99462                      2.0  \n",
            "145574                     2.0  \n",
            "311713                     9.0  \n",
            "242618                     9.0  \n",
            "164581                     6.0  \n",
            "273805                     6.0  \n",
            "314427                     4.0  \n",
            "411408                     4.0  \n",
            "266232                     NaN  \n",
            "200059                     NaN  \n",
            "230807                    16.0  \n",
            "30371                     16.0  \n",
            "257934                     7.0  \n",
            "323900                     7.0  \n",
            "441599                     3.0  \n",
            "204042                     3.0  \n",
            "223105                    30.0  \n",
            "215294                    30.0  \n",
            "324868                     NaN  \n",
            "345917                     NaN  \n",
            "415163                     2.0  \n",
            "259636                     2.0  \n",
            "142258                     7.0  \n",
            "284038                     7.0  \n"
          ]
        }
      ],
      "source": [
        "# Basándote en tus hallazgos,\n",
        "# Verifica todos los pedidos que se hicieron el miércoles a las 2:00 a.m.\n",
        "\n",
        "# Filtro pedidos del miércoles (3) a las 2:00 a.m.\n",
        "# 0 = domingo  3 = miércoles\n",
        "wed_2am_dups = dups.query('order_dow == 3 and order_hour_of_day == 2')\n",
        "print(wed_2am_dups)\n"
      ]
    },
    {
      "cell_type": "markdown",
      "id": "vu2OWyoqwOx5",
      "metadata": {
        "id": "vu2OWyoqwOx5"
      },
      "source": [
        "¿Qué sugiere este resultado?  \n",
        "<div style=\"background-color:#d4edda; padding: 10px; border-radius: 5px;\">R. Los datos duplicados son un error, por lo que podemos eliminar las filas. Es curioso que todos los duplicados de este DF se presentaran el miércoles a las 2 am.  \n",
        "\n",
        "En la práctica, cuando los duplicados se agrupan en un mismo “timestamp” (día-hora) suele apuntar a un fallo puntual de procesamiento más que a un error de captura del usuario, por lo que eliminaremos las copias idénticas y conservamos una sola ocurrencia por order_id para evitar sobre-contar ventas."
      ]
    },
    {
      "cell_type": "code",
      "execution_count": null,
      "id": "480563c7",
      "metadata": {
        "id": "480563c7"
      },
      "outputs": [],
      "source": [
        "# Elimina los pedidos duplicados\n",
        "orders = orders.drop_duplicates().reset_index(drop=True)"
      ]
    },
    {
      "cell_type": "code",
      "execution_count": null,
      "id": "0b2396a2",
      "metadata": {
        "id": "0b2396a2",
        "outputId": "bc7e2bca-82c9-4fcc-a315-9d4aab43816f"
      },
      "outputs": [
        {
          "data": {
            "text/plain": [
              "0"
            ]
          },
          "execution_count": 11,
          "metadata": {},
          "output_type": "execute_result"
        }
      ],
      "source": [
        "# Vuelve a verificar si hay filas duplicadas\n",
        "orders.duplicated().sum()"
      ]
    },
    {
      "cell_type": "code",
      "execution_count": null,
      "id": "f6113ef1",
      "metadata": {
        "id": "f6113ef1",
        "outputId": "8e1b6d78-843b-48de-deb8-eeca87f76551"
      },
      "outputs": [
        {
          "name": "stdout",
          "output_type": "stream",
          "text": [
            "Pedidos con ID duplicado: 0\n"
          ]
        }
      ],
      "source": [
        "# Vuelve a verificar únicamente si hay IDs duplicados de pedidos\n",
        "order_id_dups = orders['order_id'].duplicated().sum()\n",
        "\n",
        "print(f\"Pedidos con ID duplicado: {order_id_dups}\")"
      ]
    },
    {
      "cell_type": "markdown",
      "id": "5e8905ae",
      "metadata": {
        "id": "5e8905ae"
      },
      "source": [
        "Describe brevemente tus hallazgos y lo que hiciste con ellos.  \n",
        "\n",
        "<div style=\"background-color:#d4edda; padding: 10px; border-radius: 5px;\">R. Durante el preprocesamiento, se identificaron 15 filas duplicadas exactas en el DataFrame orders. Estas filas tenían los mismos valores en todas sus columnas, incluido el order_id, y correspondían a pedidos registrados el miércoles a las 2:00 a.m. Este patrón sugiere que probablemente se trató de un error en la carga o exportación del dataset, tal vez una duplicación generada por un proceso automático programado durante la madrugada.\n",
        "\n",
        "Dado que las filas eran completamente idénticas, se consideraron redundantes y fueron eliminadas.  \n",
        "\n",
        "Posteriormente, se verificó que no quedaran order_id duplicados en el DataFrame. Se comprobó que cada pedido tuviera un identificador único, lo cual es esencial para mantener la integridad del análisis.\n",
        "No se encontraron duplicados adicionales, por lo que no fue necesario realizar más ajustes.\n",
        "\n"
      ]
    },
    {
      "cell_type": "markdown",
      "id": "45e6bc46",
      "metadata": {
        "id": "45e6bc46"
      },
      "source": [
        "### `products` data frame"
      ]
    },
    {
      "cell_type": "code",
      "execution_count": null,
      "id": "5f526b5b-8175-46fa-a0fd-441767d50e64",
      "metadata": {
        "id": "5f526b5b-8175-46fa-a0fd-441767d50e64",
        "outputId": "fba9fc73-8c74-4f5c-806f-930a0e8a42f7"
      },
      "outputs": [
        {
          "data": {
            "text/plain": [
              "0"
            ]
          },
          "execution_count": 13,
          "metadata": {},
          "output_type": "execute_result"
        }
      ],
      "source": [
        "# Verifica si hay filas totalmente duplicadas\n",
        "products.duplicated().sum()"
      ]
    },
    {
      "cell_type": "code",
      "execution_count": null,
      "id": "3f25d347-3398-480b-bf85-228300dfd813",
      "metadata": {
        "id": "3f25d347-3398-480b-bf85-228300dfd813",
        "outputId": "3da94c07-5d50-45ba-a0d8-0b6fc76a0f00"
      },
      "outputs": [
        {
          "name": "stdout",
          "output_type": "stream",
          "text": [
            "Index(['product_id', 'product_name', 'aisle_id', 'department_id'], dtype='object')\n"
          ]
        }
      ],
      "source": [
        "#Nombres de las columnas del DF products\n",
        "print(products.columns)"
      ]
    },
    {
      "cell_type": "code",
      "execution_count": null,
      "id": "88daa4f4",
      "metadata": {
        "id": "88daa4f4",
        "outputId": "6e0ab5e7-c02b-4469-fc7a-540b4ea104cd"
      },
      "outputs": [
        {
          "data": {
            "text/plain": [
              "0"
            ]
          },
          "execution_count": 15,
          "metadata": {},
          "output_type": "execute_result"
        }
      ],
      "source": [
        "# Revisa únicamente si hay ID de productos duplicados\n",
        "products['product_id'].duplicated().sum()"
      ]
    },
    {
      "cell_type": "code",
      "execution_count": null,
      "id": "c773f0bf",
      "metadata": {
        "id": "c773f0bf",
        "outputId": "157e1eca-e167-4400-df48-7d55cd2456e5"
      },
      "outputs": [
        {
          "data": {
            "text/plain": [
              "1361"
            ]
          },
          "execution_count": 16,
          "metadata": {},
          "output_type": "execute_result"
        }
      ],
      "source": [
        "# Revisa únicamente si hay nombres duplicados de productos (convierte los nombres a letras mayúsculas para compararlos mejor)\n",
        "# Cambiar los nombres a mayúsculas\n",
        "product_names_upper = products['product_name'].str.upper()\n",
        "\n",
        "# Verificar cuántos están duplicados\n",
        "product_names_upper.duplicated().sum()"
      ]
    },
    {
      "cell_type": "code",
      "execution_count": null,
      "id": "01efd02e",
      "metadata": {
        "id": "01efd02e",
        "outputId": "adef9a84-ac9f-460b-b4df-354f0d28f831"
      },
      "outputs": [
        {
          "name": "stdout",
          "output_type": "stream",
          "text": [
            "Nombres duplicados (sin nulos): 207\n"
          ]
        }
      ],
      "source": [
        "# Revisa si hay nombres duplicados de productos no faltantes\n",
        "#(verificar si hay nombres de productos duplicados, excluyendo los valores faltantes (NaN) o vacíos.)\n",
        "\n",
        "# 1. Filtrar los nombres no nulos\n",
        "product_names_clean = products['product_name'].dropna().str.upper()\n",
        "\n",
        "# 2. Ver cuántos están duplicados (sin incluir nulos)\n",
        "duplicated_non_null = product_names_clean.duplicated(keep=False)\n",
        "\n",
        "# 3. Mostrar cuántos duplicados hay\n",
        "print(f\"Nombres duplicados (sin nulos): {duplicated_non_null.sum()}\")"
      ]
    },
    {
      "cell_type": "markdown",
      "id": "9da8d293",
      "metadata": {
        "id": "9da8d293"
      },
      "source": [
        "Describe brevemente tus hallazgos y lo que hiciste con ellos.\n",
        "\n",
        "<div style=\"background-color:#d4edda; padding: 10px; border-radius: 5px;\">Podemos confirmar que No hay filas completamente iguales en este DF.  \n",
        "\n",
        "Tampoco tenemos ID de productos duplicados, pero sí tenemos nombres de productos duplicados.  \n",
        "    \n",
        "En la primera observación de los nombres, al transformarlos todos a mayúsculas, vemos que hay 1361 datos duplicados, pero cuando los filtramos para no tomar en cuenta los NaN, vemos que hay 207 valores duplicados.  \n",
        "\n",
        "Como no tengo más contexto sobre esos nombres duplicados en este caso (En la práctica solicitaría más información sobre la categorización de los productos), y ya que todos los product_id son únicos y correctos, los dejaré como están, asegurándome de usar product_id como clave, no product_name, en análisis futuros."
      ]
    },
    {
      "cell_type": "markdown",
      "id": "60f30db1",
      "metadata": {
        "id": "60f30db1"
      },
      "source": [
        "### `departments` data frame"
      ]
    },
    {
      "cell_type": "code",
      "execution_count": null,
      "id": "fb410ad4-0fbf-4b80-bb09-23fdea79afe3",
      "metadata": {
        "id": "fb410ad4-0fbf-4b80-bb09-23fdea79afe3",
        "outputId": "527124dc-8ed7-4e08-e6a5-680b89ba22d5"
      },
      "outputs": [
        {
          "name": "stdout",
          "output_type": "stream",
          "text": [
            "0\n"
          ]
        }
      ],
      "source": [
        "# Revisa si hay filas totalmente duplicadas\n",
        "print(departments.duplicated().sum())"
      ]
    },
    {
      "cell_type": "code",
      "execution_count": null,
      "id": "fd03f84a-160d-4e4c-8fbc-be775a2e68d8",
      "metadata": {
        "id": "fd03f84a-160d-4e4c-8fbc-be775a2e68d8",
        "outputId": "dcf4c211-f25b-40b9-b548-3824e1c8d1bc"
      },
      "outputs": [
        {
          "name": "stdout",
          "output_type": "stream",
          "text": [
            "Index(['department_id', 'department'], dtype='object')\n"
          ]
        }
      ],
      "source": [
        "#Nombres de las columnas del DF departments\n",
        "print(departments.columns)"
      ]
    },
    {
      "cell_type": "code",
      "execution_count": null,
      "id": "332b12bb",
      "metadata": {
        "id": "332b12bb",
        "outputId": "dcd57e2c-5a0b-4519-deb4-eaa50511e887"
      },
      "outputs": [
        {
          "name": "stdout",
          "output_type": "stream",
          "text": [
            "0\n"
          ]
        }
      ],
      "source": [
        "# Revisa únicamente si hay IDs duplicadas de departamentos\n",
        "print(departments['department_id'].duplicated().sum())"
      ]
    },
    {
      "cell_type": "markdown",
      "id": "bd30d78e",
      "metadata": {
        "id": "bd30d78e"
      },
      "source": [
        "Describe brevemente tus hallazgos y lo que hiciste con ellos.\n",
        "<div style=\"background-color:#d4edda; padding: 10px; border-radius: 5px;\"> No hay filas duplicadas y tampoco hay valores duplicados en el ID del departamento, lo que indica que están bien categorizados y no se repiten. No es necesario hacer nada en este punto."
      ]
    },
    {
      "cell_type": "markdown",
      "id": "889349c1",
      "metadata": {
        "id": "889349c1"
      },
      "source": [
        "### `aisles` data frame"
      ]
    },
    {
      "cell_type": "code",
      "execution_count": null,
      "id": "9da89fb9-4679-40f5-ad0d-c34df753a3f8",
      "metadata": {
        "id": "9da89fb9-4679-40f5-ad0d-c34df753a3f8",
        "outputId": "d2309244-f6ee-45d3-cb2d-ad888660b33c"
      },
      "outputs": [
        {
          "name": "stdout",
          "output_type": "stream",
          "text": [
            "0\n"
          ]
        }
      ],
      "source": [
        "# Revisa si hay filas totalmente duplicadas\n",
        "print(aisles.duplicated().sum())"
      ]
    },
    {
      "cell_type": "code",
      "execution_count": null,
      "id": "cb590815-6e72-4eb2-aa2e-47cf0e1d7c5a",
      "metadata": {
        "id": "cb590815-6e72-4eb2-aa2e-47cf0e1d7c5a",
        "outputId": "90864d7a-a446-41a7-dc45-b7800aa6010c"
      },
      "outputs": [
        {
          "data": {
            "text/plain": [
              "Index(['aisle_id', 'aisle'], dtype='object')"
            ]
          },
          "execution_count": 22,
          "metadata": {},
          "output_type": "execute_result"
        }
      ],
      "source": [
        "#Nombres de las columnas del DF aisles\n",
        "aisles.columns"
      ]
    },
    {
      "cell_type": "code",
      "execution_count": null,
      "id": "da7c2822",
      "metadata": {
        "id": "da7c2822",
        "outputId": "43d0f134-a86e-4158-a0fd-8465ff4c8cfd"
      },
      "outputs": [
        {
          "name": "stdout",
          "output_type": "stream",
          "text": [
            "0\n"
          ]
        }
      ],
      "source": [
        "# Revisa únicamente si hay IDs duplicadas de pasillos\n",
        "print(aisles['aisle_id'].duplicated().sum())"
      ]
    },
    {
      "cell_type": "markdown",
      "id": "ac63826f",
      "metadata": {
        "id": "ac63826f"
      },
      "source": [
        "Describe brevemente tus hallazgos y lo que hiciste con ellos.\n",
        "<div style=\"background-color:#d4edda; padding: 10px; border-radius: 5px;\"> No hay filas duplicadas y tampoco hay valores duplicados en el ID del pasillo (aisle), lo que indica que están bien categorizados y no se repiten. No es necesario hacer nada en este punto."
      ]
    },
    {
      "cell_type": "markdown",
      "id": "274cd06a",
      "metadata": {
        "id": "274cd06a"
      },
      "source": [
        "### `order_products` data frame"
      ]
    },
    {
      "cell_type": "code",
      "execution_count": null,
      "id": "52326689-84a8-4b8f-a881-7c68780f62c9",
      "metadata": {
        "id": "52326689-84a8-4b8f-a881-7c68780f62c9",
        "outputId": "f7ea4370-795b-4f45-e6c3-920b9343f74a"
      },
      "outputs": [
        {
          "name": "stdout",
          "output_type": "stream",
          "text": [
            "0\n"
          ]
        }
      ],
      "source": [
        "# Revisa si hay filas totalmente duplicadas\n",
        "print(order_products.duplicated().sum())"
      ]
    },
    {
      "cell_type": "code",
      "execution_count": null,
      "id": "0baf7b70-5918-4827-a7be-aa97ae38516f",
      "metadata": {
        "id": "0baf7b70-5918-4827-a7be-aa97ae38516f",
        "outputId": "718175b0-3e1a-4827-e29e-145c6cb81524"
      },
      "outputs": [
        {
          "data": {
            "text/plain": [
              "Index(['order_id', 'product_id', 'add_to_cart_order', 'reordered'], dtype='object')"
            ]
          },
          "execution_count": 25,
          "metadata": {},
          "output_type": "execute_result"
        }
      ],
      "source": [
        "#Columnas\n",
        "order_products.columns"
      ]
    },
    {
      "cell_type": "code",
      "execution_count": null,
      "id": "7b861391",
      "metadata": {
        "id": "7b861391",
        "outputId": "fb2a1206-a61f-4128-babc-0786345692ec"
      },
      "outputs": [
        {
          "name": "stdout",
          "output_type": "stream",
          "text": [
            "Empty DataFrame\n",
            "Columns: [order_id, product_id, add_to_cart_order, reordered]\n",
            "Index: []\n"
          ]
        }
      ],
      "source": [
        "# Vuelve a verificar si hay cualquier otro duplicado engañoso\n",
        "\n",
        "#Aunque no haya duplicados fila a fila, puede que se repitan combinaciones como: ['order_id', 'product_id'].\n",
        "#Eso indicaría que el mismo producto fue registrado más de una vez en el mismo pedido, lo cual podría ser un error.\n",
        "# Verificar si hay productos repetidos por pedido:\n",
        "# ¿Algún producto aparece más de una vez en el mismo pedido?\n",
        "dup_comb = order_products.duplicated(subset=['order_id', 'product_id'], keep=False)\n",
        "\n",
        "print(order_products[dup_comb].sort_values(['order_id', 'product_id']).head())"
      ]
    },
    {
      "cell_type": "markdown",
      "id": "0b890492",
      "metadata": {
        "id": "0b890492"
      },
      "source": [
        "Describe brevemente tus hallazgos y lo que hiciste con ellos.\n",
        "<div style=\"background-color:#d4edda; padding: 10px; border-radius: 5px;\">\n",
        "Aunque no hay filas duplicadas en este DF, primero quise verificar si habían casos donde un mismo producto (product_id) aparece más de una vez dentro del mismo pedido (order_id). Eso indicaría que el mismo producto fue registrado más de una vez en el mismo pedido, lo cual podría ser un error. No hay duplicados de esta combinación, lo que sigifica que no hay pedidos con líneas duplicadas del mismo producto."
      ]
    },
    {
      "cell_type": "markdown",
      "id": "1e46de76",
      "metadata": {
        "id": "1e46de76"
      },
      "source": [
        "## Encuentra y elimina los valores ausentes\n",
        "\n",
        "Al trabajar con valores duplicados, pudimos observar que también nos falta investigar valores ausentes:\n",
        "\n",
        "* La columna `'product_name'` de la tabla products.\n",
        "* La columna `'days_since_prior_order'` de la tabla orders.\n",
        "* La columna `'add_to_cart_order'` de la tabla order_productos."
      ]
    },
    {
      "cell_type": "markdown",
      "id": "c0aebd78",
      "metadata": {
        "id": "c0aebd78"
      },
      "source": [
        "### `products` data frame"
      ]
    },
    {
      "cell_type": "code",
      "execution_count": null,
      "id": "fe4a8b0f",
      "metadata": {
        "id": "fe4a8b0f",
        "outputId": "868f3732-4753-4ebe-b297-a7fe02ec2e1f"
      },
      "outputs": [
        {
          "name": "stdout",
          "output_type": "stream",
          "text": [
            "1258\n"
          ]
        },
        {
          "data": {
            "text/html": [
              "<div>\n",
              "<style scoped>\n",
              "    .dataframe tbody tr th:only-of-type {\n",
              "        vertical-align: middle;\n",
              "    }\n",
              "\n",
              "    .dataframe tbody tr th {\n",
              "        vertical-align: top;\n",
              "    }\n",
              "\n",
              "    .dataframe thead th {\n",
              "        text-align: right;\n",
              "    }\n",
              "</style>\n",
              "<table border=\"1\" class=\"dataframe\">\n",
              "  <thead>\n",
              "    <tr style=\"text-align: right;\">\n",
              "      <th></th>\n",
              "      <th>product_id</th>\n",
              "      <th>product_name</th>\n",
              "      <th>aisle_id</th>\n",
              "      <th>department_id</th>\n",
              "    </tr>\n",
              "  </thead>\n",
              "  <tbody>\n",
              "    <tr>\n",
              "      <th>37</th>\n",
              "      <td>38</td>\n",
              "      <td>NaN</td>\n",
              "      <td>100</td>\n",
              "      <td>21</td>\n",
              "    </tr>\n",
              "    <tr>\n",
              "      <th>71</th>\n",
              "      <td>72</td>\n",
              "      <td>NaN</td>\n",
              "      <td>100</td>\n",
              "      <td>21</td>\n",
              "    </tr>\n",
              "    <tr>\n",
              "      <th>109</th>\n",
              "      <td>110</td>\n",
              "      <td>NaN</td>\n",
              "      <td>100</td>\n",
              "      <td>21</td>\n",
              "    </tr>\n",
              "    <tr>\n",
              "      <th>296</th>\n",
              "      <td>297</td>\n",
              "      <td>NaN</td>\n",
              "      <td>100</td>\n",
              "      <td>21</td>\n",
              "    </tr>\n",
              "    <tr>\n",
              "      <th>416</th>\n",
              "      <td>417</td>\n",
              "      <td>NaN</td>\n",
              "      <td>100</td>\n",
              "      <td>21</td>\n",
              "    </tr>\n",
              "    <tr>\n",
              "      <th>...</th>\n",
              "      <td>...</td>\n",
              "      <td>...</td>\n",
              "      <td>...</td>\n",
              "      <td>...</td>\n",
              "    </tr>\n",
              "    <tr>\n",
              "      <th>49552</th>\n",
              "      <td>49553</td>\n",
              "      <td>NaN</td>\n",
              "      <td>100</td>\n",
              "      <td>21</td>\n",
              "    </tr>\n",
              "    <tr>\n",
              "      <th>49574</th>\n",
              "      <td>49575</td>\n",
              "      <td>NaN</td>\n",
              "      <td>100</td>\n",
              "      <td>21</td>\n",
              "    </tr>\n",
              "    <tr>\n",
              "      <th>49640</th>\n",
              "      <td>49641</td>\n",
              "      <td>NaN</td>\n",
              "      <td>100</td>\n",
              "      <td>21</td>\n",
              "    </tr>\n",
              "    <tr>\n",
              "      <th>49663</th>\n",
              "      <td>49664</td>\n",
              "      <td>NaN</td>\n",
              "      <td>100</td>\n",
              "      <td>21</td>\n",
              "    </tr>\n",
              "    <tr>\n",
              "      <th>49668</th>\n",
              "      <td>49669</td>\n",
              "      <td>NaN</td>\n",
              "      <td>100</td>\n",
              "      <td>21</td>\n",
              "    </tr>\n",
              "  </tbody>\n",
              "</table>\n",
              "<p>1258 rows × 4 columns</p>\n",
              "</div>"
            ],
            "text/plain": [
              "       product_id product_name  aisle_id  department_id\n",
              "37             38          NaN       100             21\n",
              "71             72          NaN       100             21\n",
              "109           110          NaN       100             21\n",
              "296           297          NaN       100             21\n",
              "416           417          NaN       100             21\n",
              "...           ...          ...       ...            ...\n",
              "49552       49553          NaN       100             21\n",
              "49574       49575          NaN       100             21\n",
              "49640       49641          NaN       100             21\n",
              "49663       49664          NaN       100             21\n",
              "49668       49669          NaN       100             21\n",
              "\n",
              "[1258 rows x 4 columns]"
            ]
          },
          "execution_count": 27,
          "metadata": {},
          "output_type": "execute_result"
        }
      ],
      "source": [
        "# Encuentra los valores ausentes en la columna 'product_name'\n",
        "print(products['product_name'].isna().sum())\n",
        "products[products['product_name'].isna()]"
      ]
    },
    {
      "cell_type": "markdown",
      "id": "-A6x1AbJhjkp",
      "metadata": {
        "id": "-A6x1AbJhjkp"
      },
      "source": [
        "Describe brevemente cuáles son tus hallazgos.\n",
        "<div style=\"background-color:#d4edda; padding: 10px; border-radius: 5px;\">  \n",
        "Se identificaron 1,258 valores faltantes en la columna product_name."
      ]
    },
    {
      "cell_type": "code",
      "execution_count": null,
      "id": "e96167bc",
      "metadata": {
        "id": "e96167bc",
        "outputId": "0b0b403f-7de7-4174-c1bc-79596c42c544"
      },
      "outputs": [
        {
          "name": "stdout",
          "output_type": "stream",
          "text": [
            "aisle_id\n",
            "100    1258\n",
            "dtype: int64\n"
          ]
        }
      ],
      "source": [
        "#  ¿Todos los nombres de productos ausentes están relacionados con el pasillo con ID 100?\n",
        "print(products[products['product_name'].isna()].groupby('aisle_id').size())"
      ]
    },
    {
      "cell_type": "markdown",
      "id": "WRpIfXRphpSL",
      "metadata": {
        "id": "WRpIfXRphpSL"
      },
      "source": [
        "Describe brevemente cuáles son tus hallazgos.\n",
        "<div style=\"background-color:#d4edda; padding: 10px; border-radius: 5px;\">  \n",
        "Este resultado confirma que los 1,258 valores ausentes en product_name pertenecen todos al mismo aisle_id (100)"
      ]
    },
    {
      "cell_type": "code",
      "execution_count": null,
      "id": "8fd0a541",
      "metadata": {
        "id": "8fd0a541",
        "outputId": "09e86110-94c8-4309-c660-c13af918e9e0"
      },
      "outputs": [
        {
          "name": "stdout",
          "output_type": "stream",
          "text": [
            "department_id\n",
            "21    1258\n",
            "dtype: int64\n"
          ]
        }
      ],
      "source": [
        "# ¿Todos los nombres de productos ausentes están relacionados con el departamento con ID 21?\n",
        "print(products[products['product_name'].isna()].groupby('department_id').size())"
      ]
    },
    {
      "cell_type": "markdown",
      "id": "qDpdYn1Fht_I",
      "metadata": {
        "id": "qDpdYn1Fht_I"
      },
      "source": [
        "Describe brevemente cuáles son tus hallazgos.\n",
        "<div style=\"background-color:#d4edda; padding: 10px; border-radius: 5px;\">  \n",
        "Confirmamos que todos los valores ausentes en product_name también pertenecen al department_id 21."
      ]
    },
    {
      "cell_type": "code",
      "execution_count": null,
      "id": "325c3464",
      "metadata": {
        "id": "325c3464",
        "outputId": "4fba948c-53a3-43c4-dc3f-754f07b22183"
      },
      "outputs": [
        {
          "data": {
            "text/html": [
              "<div>\n",
              "<style scoped>\n",
              "    .dataframe tbody tr th:only-of-type {\n",
              "        vertical-align: middle;\n",
              "    }\n",
              "\n",
              "    .dataframe tbody tr th {\n",
              "        vertical-align: top;\n",
              "    }\n",
              "\n",
              "    .dataframe thead th {\n",
              "        text-align: right;\n",
              "    }\n",
              "</style>\n",
              "<table border=\"1\" class=\"dataframe\">\n",
              "  <thead>\n",
              "    <tr style=\"text-align: right;\">\n",
              "      <th>department_id</th>\n",
              "      <th>21</th>\n",
              "    </tr>\n",
              "    <tr>\n",
              "      <th>aisle_id</th>\n",
              "      <th></th>\n",
              "    </tr>\n",
              "  </thead>\n",
              "  <tbody>\n",
              "    <tr>\n",
              "      <th>100</th>\n",
              "      <td>1258</td>\n",
              "    </tr>\n",
              "  </tbody>\n",
              "</table>\n",
              "</div>"
            ],
            "text/plain": [
              "department_id    21\n",
              "aisle_id           \n",
              "100            1258"
            ]
          },
          "execution_count": 30,
          "metadata": {},
          "output_type": "execute_result"
        }
      ],
      "source": [
        "# Usa las tablas department y aisle para revisar los datos del pasillo con ID 100 y el departamento con ID 21.\n",
        "pivot_missing = products[products['product_name'].isna()].pivot_table(\n",
        "    index='aisle_id',\n",
        "    columns='department_id',\n",
        "    values='product_id',  # usamos una columna que NO tiene NaN\n",
        "    aggfunc='count',\n",
        "    fill_value=0\n",
        ")\n",
        "\n",
        "pivot_missing"
      ]
    },
    {
      "cell_type": "markdown",
      "id": "nqhSTUPhhvEJ",
      "metadata": {
        "id": "nqhSTUPhhvEJ"
      },
      "source": [
        "Describe brevemente cuáles son tus hallazgos.\n",
        "<div style=\"background-color:#d4edda; padding: 10px; border-radius: 5px;\">  \n",
        "Creamos una tabla dinámica para identificar en qué combinaciones de pasillo y departamento se concentran los valores ausentes en product_name.  \n",
        "\n",
        "Esto confirma que todos los productos con nombre ausente pertenecen al pasillo 100 y al departamento 21, los cuales en las otras tablas se identifican como \"missing aisle\" y \"missing department\".  \n",
        "Esto refuerza nuestra decisión de reemplazar esos nombres con \"Unknown\" para conservar las observaciones sin afectar el análisis."
      ]
    },
    {
      "cell_type": "code",
      "execution_count": null,
      "id": "6b295120",
      "metadata": {
        "id": "6b295120",
        "outputId": "585a3392-6373-40b5-b712-0e40cb01ba60"
      },
      "outputs": [
        {
          "name": "stdout",
          "output_type": "stream",
          "text": [
            "0\n"
          ]
        }
      ],
      "source": [
        "# Completa los nombres de productos ausentes con 'Unknown'\n",
        "products['product_name'].fillna('Unknown', inplace=True)\n",
        "print(products['product_name'].isna().sum())"
      ]
    },
    {
      "cell_type": "markdown",
      "id": "fc70e5ad",
      "metadata": {
        "id": "fc70e5ad"
      },
      "source": [
        "Describe brevemente tus hallazgos y lo que hiciste con ellos.\n",
        "<div style=\"background-color:#d4edda; padding: 10px; border-radius: 5px;\">  \n",
        "Reemplazamos los valores ausentes en product_name con el texto \"Unknown\"\n",
        "Esta solución nos permite conservar los registros para futuros análisis, evitando pérdida de datos valiosos y asegurando consistencia en operaciones posteriores como agrupamientos o visualización."
      ]
    },
    {
      "cell_type": "markdown",
      "id": "7eb45c86",
      "metadata": {
        "id": "7eb45c86"
      },
      "source": [
        "### `orders` data frame"
      ]
    },
    {
      "cell_type": "code",
      "execution_count": null,
      "id": "93e41d96",
      "metadata": {
        "id": "93e41d96",
        "outputId": "c5afd438-577c-449a-935e-cd9939d5b0f3"
      },
      "outputs": [
        {
          "data": {
            "text/plain": [
              "order_id                      0\n",
              "user_id                       0\n",
              "order_number                  0\n",
              "order_dow                     0\n",
              "order_hour_of_day             0\n",
              "days_since_prior_order    28817\n",
              "dtype: int64"
            ]
          },
          "execution_count": 32,
          "metadata": {},
          "output_type": "execute_result"
        }
      ],
      "source": [
        "# Encuentra los valores ausentes\n",
        "orders.isna().sum()"
      ]
    },
    {
      "cell_type": "code",
      "execution_count": null,
      "id": "166e5a86",
      "metadata": {
        "id": "166e5a86",
        "outputId": "8e517bfc-80bf-40da-a5e0-35aab657c74c"
      },
      "outputs": [
        {
          "data": {
            "text/html": [
              "<div>\n",
              "<style scoped>\n",
              "    .dataframe tbody tr th:only-of-type {\n",
              "        vertical-align: middle;\n",
              "    }\n",
              "\n",
              "    .dataframe tbody tr th {\n",
              "        vertical-align: top;\n",
              "    }\n",
              "\n",
              "    .dataframe thead th {\n",
              "        text-align: right;\n",
              "    }\n",
              "</style>\n",
              "<table border=\"1\" class=\"dataframe\">\n",
              "  <thead>\n",
              "    <tr style=\"text-align: right;\">\n",
              "      <th></th>\n",
              "      <th>order_id</th>\n",
              "      <th>user_id</th>\n",
              "      <th>order_number</th>\n",
              "      <th>order_dow</th>\n",
              "      <th>order_hour_of_day</th>\n",
              "      <th>days_since_prior_order</th>\n",
              "    </tr>\n",
              "  </thead>\n",
              "  <tbody>\n",
              "    <tr>\n",
              "      <th>28</th>\n",
              "      <td>133707</td>\n",
              "      <td>182261</td>\n",
              "      <td>1</td>\n",
              "      <td>3</td>\n",
              "      <td>10</td>\n",
              "      <td>NaN</td>\n",
              "    </tr>\n",
              "    <tr>\n",
              "      <th>96</th>\n",
              "      <td>787445</td>\n",
              "      <td>25685</td>\n",
              "      <td>1</td>\n",
              "      <td>6</td>\n",
              "      <td>18</td>\n",
              "      <td>NaN</td>\n",
              "    </tr>\n",
              "    <tr>\n",
              "      <th>100</th>\n",
              "      <td>294410</td>\n",
              "      <td>111449</td>\n",
              "      <td>1</td>\n",
              "      <td>0</td>\n",
              "      <td>19</td>\n",
              "      <td>NaN</td>\n",
              "    </tr>\n",
              "    <tr>\n",
              "      <th>103</th>\n",
              "      <td>2869915</td>\n",
              "      <td>123958</td>\n",
              "      <td>1</td>\n",
              "      <td>4</td>\n",
              "      <td>16</td>\n",
              "      <td>NaN</td>\n",
              "    </tr>\n",
              "    <tr>\n",
              "      <th>104</th>\n",
              "      <td>2521921</td>\n",
              "      <td>42286</td>\n",
              "      <td>1</td>\n",
              "      <td>3</td>\n",
              "      <td>18</td>\n",
              "      <td>NaN</td>\n",
              "    </tr>\n",
              "  </tbody>\n",
              "</table>\n",
              "</div>"
            ],
            "text/plain": [
              "     order_id  user_id  order_number  order_dow  order_hour_of_day  \\\n",
              "28     133707   182261             1          3                 10   \n",
              "96     787445    25685             1          6                 18   \n",
              "100    294410   111449             1          0                 19   \n",
              "103   2869915   123958             1          4                 16   \n",
              "104   2521921    42286             1          3                 18   \n",
              "\n",
              "     days_since_prior_order  \n",
              "28                      NaN  \n",
              "96                      NaN  \n",
              "100                     NaN  \n",
              "103                     NaN  \n",
              "104                     NaN  "
            ]
          },
          "execution_count": 33,
          "metadata": {},
          "output_type": "execute_result"
        }
      ],
      "source": [
        "# ¿Hay algún valor ausente que no sea el primer pedido del cliente?\n",
        "orders[orders['days_since_prior_order'].isna()].head() #Vemos más a detalle los NaN de la columna 'days_since_prior_order'"
      ]
    },
    {
      "cell_type": "code",
      "execution_count": null,
      "id": "3ea120a8-e326-4174-8928-6d692ecba370",
      "metadata": {
        "id": "3ea120a8-e326-4174-8928-6d692ecba370",
        "outputId": "8287d716-1e13-496f-e39f-bfc13dccc276"
      },
      "outputs": [
        {
          "data": {
            "text/plain": [
              "1    28817\n",
              "Name: order_number, dtype: int64"
            ]
          },
          "execution_count": 34,
          "metadata": {},
          "output_type": "execute_result"
        }
      ],
      "source": [
        "orders[orders['days_since_prior_order'].isna()]['order_number'].value_counts() #Contamos los NaN en 'days_since_prior_order' para detectar cuántos están en el primer pedido del cliente"
      ]
    },
    {
      "cell_type": "markdown",
      "id": "4e23d089",
      "metadata": {
        "id": "4e23d089"
      },
      "source": [
        "Describe brevemente tus hallazgos y lo que hiciste con ellos.\n",
        "<div style=\"background-color:#d4edda; padding: 10px; border-radius: 5px;\">  \n",
        "Se detectaron valores ausentes en la columna \"days_since_prior_order¨. Al analizarlos, se encontró que todos corresponden al primer pedido de cada cliente (1), lo cual es lógico, ya que no existe un pedido anterior para calcular los días transcurridos.\n",
        "Por lo tanto, estos NaN no representan un error de captura ni pérdida de datos, sino un valor esperado por la naturaleza del proceso.  \n",
        "    \n",
        "Decidimos conservar estos valores tal como están, ya que no es necesario imputarlos ni eliminarlos."
      ]
    },
    {
      "cell_type": "markdown",
      "id": "69dc9ca4",
      "metadata": {
        "id": "69dc9ca4"
      },
      "source": [
        "### `order_products` data frame"
      ]
    },
    {
      "cell_type": "code",
      "execution_count": null,
      "id": "b8240253",
      "metadata": {
        "id": "b8240253",
        "outputId": "7d7828f8-b405-4c70-ff50-cfdfc29ff6cf"
      },
      "outputs": [
        {
          "data": {
            "text/plain": [
              "order_id               0\n",
              "product_id             0\n",
              "add_to_cart_order    836\n",
              "reordered              0\n",
              "dtype: int64"
            ]
          },
          "execution_count": 35,
          "metadata": {},
          "output_type": "execute_result"
        }
      ],
      "source": [
        "# Encuentra los valores ausentes\n",
        "order_products.isna().sum()"
      ]
    },
    {
      "cell_type": "code",
      "execution_count": null,
      "id": "9a78e5ee",
      "metadata": {
        "id": "9a78e5ee",
        "outputId": "b29ba41c-34bc-4fd5-d13f-396c354025f6"
      },
      "outputs": [
        {
          "data": {
            "text/plain": [
              "min     1.0\n",
              "max    64.0\n",
              "Name: add_to_cart_order, dtype: float64"
            ]
          },
          "execution_count": 36,
          "metadata": {},
          "output_type": "execute_result"
        }
      ],
      "source": [
        "# ¿Cuáles son los valores mínimos y máximos en esta columna?\n",
        "order_products['add_to_cart_order'].agg(['min', 'max'])"
      ]
    },
    {
      "cell_type": "markdown",
      "id": "-Z2Ja215jW78",
      "metadata": {
        "id": "-Z2Ja215jW78"
      },
      "source": [
        "Describe brevemente cuáles son tus hallazgos.\n",
        "<div style=\"background-color:#d4edda; padding: 10px; border-radius: 5px;\">  \n",
        "1.0 indica que al menos un producto fue el primero en ser añadido al carrito.\n",
        "\n",
        "64.0 sugiere que hay pedidos con hasta 64 productos (el producto número 64 agregado).\n",
        "\n",
        "Esto está dentro de lo esperado: add_to_cart_order simplemente representa el orden en el que se agregaron los productos al carrito dentro de un pedido."
      ]
    },
    {
      "cell_type": "code",
      "execution_count": null,
      "id": "ab9d0c2b",
      "metadata": {
        "id": "ab9d0c2b",
        "outputId": "9c896aa7-5646-4e2f-ff2a-027bde27fb5e"
      },
      "outputs": [
        {
          "name": "stdout",
          "output_type": "stream",
          "text": [
            "[2449164 1968313 2926893 1717990 1959075  844733   61355  936852  264710\n",
            " 1564093  129627  293169 2849370 1386261 3308010  903110 2136777 3347453\n",
            " 1888628  165801 2094761 1038146 2997021  813364 2256933  171934 2409109\n",
            " 1730767 1169835  733526  404157 3125735  747668 1800005 1961723  871281\n",
            "  388234 1648217 1477139  102236 1021563 1832957 2721963  678116 1220886\n",
            " 1673227 2999801 1633337 2470674 2625444 1677118 2479011 3383594 1183255\n",
            " 1713430 2652650 1598369 1916118  854647 1302315  888470  180546 2621907\n",
            " 1308785 2729254    9310 2170451 2979697 1625713 1529171]\n"
          ]
        },
        {
          "data": {
            "text/plain": [
              "70"
            ]
          },
          "execution_count": 37,
          "metadata": {},
          "output_type": "execute_result"
        }
      ],
      "source": [
        "# Guarda todas las IDs de pedidos que tengan un valor ausente en 'add_to_cart_order'\n",
        "missing_cart_orders = order_products[order_products['add_to_cart_order'].isna()]['order_id'].unique() # Usamos unique() para obtener solo una vez cada ID (sin repeticiones).\n",
        "print(missing_cart_orders)\n",
        "len(missing_cart_orders)"
      ]
    },
    {
      "cell_type": "code",
      "execution_count": null,
      "id": "54c31695",
      "metadata": {
        "id": "54c31695",
        "outputId": "bc43384a-7881-4f21-e1ac-0d2c71e48657"
      },
      "outputs": [
        {
          "data": {
            "text/plain": [
              "1"
            ]
          },
          "execution_count": 38,
          "metadata": {},
          "output_type": "execute_result"
        }
      ],
      "source": [
        "# ¿Todos los pedidos con valores ausentes tienen más de 64 productos?\n",
        "# Agrupa todos los pedidos con datos ausentes por su ID de pedido.\n",
        "# Cuenta el número de 'product_id' en cada pedido y revisa el valor mínimo del conteo.\n",
        "missing_rows = order_products[order_products['add_to_cart_order'].isna()]\n",
        "product_counts = missing_rows.groupby('order_id')['product_id'].count()\n",
        "product_counts.min()\n"
      ]
    },
    {
      "cell_type": "markdown",
      "id": "p9V6pddtjglj",
      "metadata": {
        "id": "p9V6pddtjglj"
      },
      "source": [
        "Describe brevemente cuáles son tus hallazgos.\n",
        "<div style=\"background-color:#d4edda; padding: 10px; border-radius: 5px;\">\n",
        "Se identificaron 836 valores ausentes en la columna 'add_to_cart_order', la cual representa el orden en que se agregaron los productos al carrito en un pedido.\n",
        "\n",
        "Al analizar los pedidos asociados a esos valores ausentes, se encontró que algunos tienen tan solo un producto, mientras que otros pueden tener más.\n",
        "Esto indica que los NaN no están relacionados con la cantidad total de productos en el pedido (es decir, no se deben a pedidos con más de 64 productos, que era el máximo observado anteriormente).\n",
        "\n",
        "Estos valores ausentes probablemente se deban a errores en la captura o procesamiento de los datos. Se recomienda imputarlos con un valor por defecto o eliminarlos si afectan el análisis posterior."
      ]
    },
    {
      "cell_type": "code",
      "execution_count": null,
      "id": "7a987d08",
      "metadata": {
        "id": "7a987d08",
        "outputId": "2934f117-5c02-4a3e-80a2-221977155a59"
      },
      "outputs": [
        {
          "data": {
            "text/html": [
              "<div>\n",
              "<style scoped>\n",
              "    .dataframe tbody tr th:only-of-type {\n",
              "        vertical-align: middle;\n",
              "    }\n",
              "\n",
              "    .dataframe tbody tr th {\n",
              "        vertical-align: top;\n",
              "    }\n",
              "\n",
              "    .dataframe thead th {\n",
              "        text-align: right;\n",
              "    }\n",
              "</style>\n",
              "<table border=\"1\" class=\"dataframe\">\n",
              "  <thead>\n",
              "    <tr style=\"text-align: right;\">\n",
              "      <th></th>\n",
              "      <th>order_id</th>\n",
              "      <th>product_id</th>\n",
              "      <th>add_to_cart_order</th>\n",
              "      <th>reordered</th>\n",
              "    </tr>\n",
              "  </thead>\n",
              "  <tbody>\n",
              "    <tr>\n",
              "      <th>737</th>\n",
              "      <td>2449164</td>\n",
              "      <td>5068</td>\n",
              "      <td>999</td>\n",
              "      <td>0</td>\n",
              "    </tr>\n",
              "    <tr>\n",
              "      <th>9926</th>\n",
              "      <td>1968313</td>\n",
              "      <td>43867</td>\n",
              "      <td>999</td>\n",
              "      <td>0</td>\n",
              "    </tr>\n",
              "    <tr>\n",
              "      <th>14394</th>\n",
              "      <td>2926893</td>\n",
              "      <td>11688</td>\n",
              "      <td>999</td>\n",
              "      <td>0</td>\n",
              "    </tr>\n",
              "    <tr>\n",
              "      <th>16418</th>\n",
              "      <td>1717990</td>\n",
              "      <td>4142</td>\n",
              "      <td>999</td>\n",
              "      <td>0</td>\n",
              "    </tr>\n",
              "    <tr>\n",
              "      <th>30114</th>\n",
              "      <td>1959075</td>\n",
              "      <td>42828</td>\n",
              "      <td>999</td>\n",
              "      <td>1</td>\n",
              "    </tr>\n",
              "  </tbody>\n",
              "</table>\n",
              "</div>"
            ],
            "text/plain": [
              "       order_id  product_id  add_to_cart_order  reordered\n",
              "737     2449164        5068                999          0\n",
              "9926    1968313       43867                999          0\n",
              "14394   2926893       11688                999          0\n",
              "16418   1717990        4142                999          0\n",
              "30114   1959075       42828                999          1"
            ]
          },
          "execution_count": 39,
          "metadata": {},
          "output_type": "execute_result"
        }
      ],
      "source": [
        "# Remplaza los valores ausentes en la columna 'add_to_cart? con 999 y convierte la columna al tipo entero.\n",
        "order_products['add_to_cart_order'] = order_products['add_to_cart_order'].fillna(999) #Reemplaza valores NaN por 999\n",
        "order_products['add_to_cart_order'] = order_products['add_to_cart_order'].astype(int) # convierte la columna al tipo entero.\n",
        "order_products[order_products['add_to_cart_order'] == 999].head() #Comprobación de los cambios"
      ]
    },
    {
      "cell_type": "markdown",
      "id": "fea4bcc7",
      "metadata": {
        "id": "fea4bcc7"
      },
      "source": [
        "Describe brevemente tus hallazgos y lo que hiciste con ellos.\n",
        "<div style=\"background-color:#d4edda; padding: 10px; border-radius: 5px;\">\n",
        "    \n",
        "Durante el análisis del DataFrame order_products, se identificaron 836 valores ausentes en la columna add_to_cart_order, la cual representa el orden en que los productos fueron agregados al carrito dentro de cada pedido.\n",
        "\n",
        "Al investigar más a fondo, se observó que estos valores ausentes no corresponden exclusivamente a pedidos grandes (por ejemplo, con más de 64 productos, que era el valor máximo observado previamente). De hecho, algunos de estos pedidos con valores ausentes contenían solamente un producto. Esto sugiere que los NaN no están relacionados con la longitud del pedido, sino que probablemente se deban a errores de captura o procesamiento.\n",
        "\n",
        "Dado que esta columna es numérica y se requiere conservar su estructura para análisis posteriores, se decidió:\n",
        "\n",
        "Imputar los valores ausentes con el número 999, como valor atípico y fácil de identificar, y luego convertir la columna a tipo entero (int).\n",
        "\n",
        "Este valor actúa como marcador especial, permitiendo incluir estos registros sin distorsionar visualizaciones o cálculos que dependen del orden secuencial original de agregado al carrito."
      ]
    },
    {
      "cell_type": "markdown",
      "id": "RnplPFY1gSrb",
      "metadata": {
        "id": "RnplPFY1gSrb"
      },
      "source": [
        "## Conclusiones\n",
        "\n",
        "Escribe aquí tus conclusiones intermedias sobre el Paso 2. Preprocesamiento de los datos\n",
        "<div style=\"background-color:#d4edda; padding: 10px; border-radius: 5px;\">\n",
        "Durante esta etapa, se realizó una revisión exhaustiva de los cinco DataFrames (orders, order_products, products, departments y aisles) para asegurar su calidad antes de cualquier análisis. A continuación, se resumen los principales hallazgos y acciones:\n",
        "\n",
        "- Tipos de datos\n",
        "  - Se verificaron los tipos de datos en todas las columnas. Las columnas de ID ya estaban correctamente configuradas como int.\n",
        "\n",
        "  - En el DataFrame order_products, la columna add_to_cart_order se encontraba en formato float64 debido a la presencia de valores nulos. Tras imputarlos, la columna fue convertida a tipo entero (int) para reflejar su verdadero propósito (el orden en que los productos fueron añadidos al carrito).\n",
        "\n",
        "- Valores duplicados\n",
        "  - En orders se encontraron 15 filas completamente duplicadas, todas con pedidos registrados un miércoles a las 2:00 a.m. Se eliminaron, asumiendo que se trataba de errores de registro o pruebas del sistema.\n",
        "\n",
        "  - En products, no se encontraron filas ni IDs duplicados, pero sí se detectaron 207 nombres de productos duplicados (ignorando mayúsculas y valores nulos). Estos casos se conservaron, ya que pueden representar productos similares o formatos distintos con el mismo nombre.\n",
        "\n",
        "  - En order_products, no hubo filas completamente duplicadas ni combinaciones repetidas de order_id y product_id.\n",
        "\n",
        "- Valores ausentes\n",
        "  - En products, se encontraron 1,258 valores faltantes en product_name que  estaban todos asociados al aisle_id 100 y department_id 21 (categorías denominadas \"missing\"). Se completaron con el texto \"Unknown\" para conservar los registros.\n",
        "\n",
        "  - En orders, 28,817 valores nulos en days_since_prior_order coincidieron con todos los primeros pedidos de cada cliente (order_number == 1), por lo que no fueron imputados ni modificados.\n",
        "\n",
        "  - En order_products, 836 valores ausentes en add_to_cart_order no mostraron un patrón claro por tamaño del pedido. Se decidió imputarlos con el valor 999 como marcador identificable, y luego convertir la columna a tipo entero (int).\n",
        "\n",
        "\n",
        "### Reflexión\n",
        "Los valores ausentes y duplicados parecen derivarse tanto de condiciones naturales del negocio (como primeros pedidos o productos sin descripción) como de modificaciones controladas para fines del proyecto. Cada decisión de limpieza fue tomada cuidadosamente, con el objetivo de mantener la mayor cantidad de datos útiles sin comprometer la integridad del análisis.\n"
      ]
    },
    {
      "cell_type": "markdown",
      "id": "UjrOIwTcz3ri",
      "metadata": {
        "id": "UjrOIwTcz3ri"
      },
      "source": [
        "# Paso 3. Análisis de los datos\n",
        "\n",
        "Una vez los datos estén procesados y listos, haz el siguiente análisis:"
      ]
    },
    {
      "cell_type": "markdown",
      "id": "turkish-kidney",
      "metadata": {
        "id": "turkish-kidney"
      },
      "source": [
        "# [A] Fácil (deben completarse todos para aprobar)\n",
        "\n",
        "1. Verifica que los valores en las columnas `'order_hour_of_day'` y `'order_dow'` en la tabla orders sean razonables (es decir, `'order_hour_of_day'` oscile entre 0 y 23 y `'order_dow'` oscile entre 0 y 6).\n",
        "2. Crea un gráfico que muestre el número de personas que hacen pedidos dependiendo de la hora del día.\n",
        "3. Crea un gráfico que muestre qué día de la semana la gente hace sus compras.\n",
        "4. Crea un gráfico que muestre el tiempo que la gente espera hasta hacer su siguiente pedido, y comenta sobre los valores mínimos y máximos."
      ]
    },
    {
      "cell_type": "markdown",
      "id": "short-capability",
      "metadata": {
        "id": "short-capability"
      },
      "source": [
        "### [A1] Verifica que los valores sean sensibles"
      ]
    },
    {
      "cell_type": "code",
      "execution_count": null,
      "id": "ddfe1d2a-0d58-44a7-9546-aeca09d45547",
      "metadata": {
        "id": "ddfe1d2a-0d58-44a7-9546-aeca09d45547",
        "outputId": "3fd2444f-6c1a-47c1-998d-e592a2a07089"
      },
      "outputs": [
        {
          "name": "stdout",
          "output_type": "stream",
          "text": [
            "Valores únicos en 'order_hour_of_day': [13 12 19 20 11  8 18 15 16  9 22 10  0 14 17  1  7  6  2 21  3 23  5  4]\n",
            "Mínimo: 0  | Máximo: 23\n"
          ]
        }
      ],
      "source": [
        "print(\"Valores únicos en 'order_hour_of_day':\", orders['order_hour_of_day'].unique())\n",
        "print(\"Mínimo:\", orders['order_hour_of_day'].min(), \" | Máximo:\", orders['order_hour_of_day'].max())"
      ]
    },
    {
      "cell_type": "code",
      "execution_count": null,
      "id": "accessory-malaysia",
      "metadata": {
        "id": "accessory-malaysia",
        "outputId": "192c3acc-ec1d-415b-cffd-8c7f21683ae8"
      },
      "outputs": [
        {
          "name": "stdout",
          "output_type": "stream",
          "text": [
            "\n",
            "Valores únicos en 'order_dow': [6 5 0 4 3 1 2]\n",
            "Mínimo: 0  | Máximo: 6\n"
          ]
        }
      ],
      "source": [
        "print(\"\\nValores únicos en 'order_dow':\", orders['order_dow'].unique())\n",
        "print(\"Mínimo:\", orders['order_dow'].min(), \" | Máximo:\", orders['order_dow'].max())"
      ]
    },
    {
      "cell_type": "markdown",
      "id": "hmR2GNQ6lCsX",
      "metadata": {
        "id": "hmR2GNQ6lCsX"
      },
      "source": [
        "Escribe aquí tus conclusiones\n",
        "<div style=\"background-color:#d4edda; padding: 10px; border-radius: 5px;\">\n",
        "\n",
        "Con esto podemos confirmar que:\n",
        "\n",
        "- Las horas (order_hour_of_day) estén entre 0 y 23\n",
        "\n",
        "- Los días de la semana (order_dow) estén entre 0 y 6"
      ]
    },
    {
      "cell_type": "markdown",
      "id": "a6743a70",
      "metadata": {
        "id": "a6743a70"
      },
      "source": [
        "### [A2] Para cada hora del día, ¿cuántas personas hacen órdenes?"
      ]
    },
    {
      "cell_type": "code",
      "execution_count": null,
      "id": "616ebeb9-4773-4fa9-bcf6-55590c18a9ba",
      "metadata": {
        "id": "616ebeb9-4773-4fa9-bcf6-55590c18a9ba",
        "outputId": "cf93bcf6-3b85-49ea-83cd-0b23bbcd54fa"
      },
      "outputs": [
        {
          "data": {
            "text/plain": [
              "Index(['order_id', 'user_id', 'order_number', 'order_dow', 'order_hour_of_day',\n",
              "       'days_since_prior_order'],\n",
              "      dtype='object')"
            ]
          },
          "execution_count": 42,
          "metadata": {},
          "output_type": "execute_result"
        }
      ],
      "source": [
        "orders.columns"
      ]
    },
    {
      "cell_type": "code",
      "execution_count": null,
      "id": "a36cca27",
      "metadata": {
        "id": "a36cca27",
        "outputId": "a1162449-b9a8-49e4-86f3-3caa7009bc57"
      },
      "outputs": [
        {
          "data": {
            "image/png": "[encoded data removed]",
            "text/plain": [
              "<Figure size 1000x600 with 1 Axes>"
            ]
          },
          "metadata": {},
          "output_type": "display_data"
        }
      ],
      "source": [
        "# Objetivo: Contar cuántos usuarios únicos (user_id) hacen pedidos en cada hora del día (order_hour_of_day), y visualizarlo. Con DF orders\n",
        "\n",
        "# Agrupar por hora del día y contar usuarios únicos\n",
        "users_by_hour = orders.groupby('order_hour_of_day')['user_id'].nunique()\n",
        "#Graficar\n",
        "users_by_hour.plot(kind='bar',\n",
        "                   color='skyblue',\n",
        "                   edgecolor='black',\n",
        "                   figsize=(10, 6),\n",
        "                   title='Número de usuarios únicos que hacen pedidos por hora del día',\n",
        "                   xlabel='Hora del día',\n",
        "                   ylabel= 'Número de usuarios',\n",
        "                   alpha=0.5,\n",
        "                   rot=0)\n",
        "#Mostrar Gráfica\n",
        "plt.show()"
      ]
    },
    {
      "cell_type": "markdown",
      "id": "11270eed",
      "metadata": {
        "id": "11270eed"
      },
      "source": [
        "Escribe aquí tus conclusiones\n",
        "<div style=\"background-color:#d4edda; padding: 10px; border-radius: 5px;\">\n",
        "\n",
        "El gráfico evidencia que la actividad de pedidos aumenta de manera constante desde las 7:00 a.m., alcanzando su punto más alto entre las 10:00 a.m. y 3:00 p.m., donde el número de usuarios únicos supera los 30,000 por hora.\n",
        "\n",
        "Después de las 4:00 p.m., la actividad comienza a disminuir progresivamente, lo que sugiere que la mayoría de los pedidos se realizan durante la mañana y primeras horas de la tarde, probablemente cuando los usuarios están planificando su día o su consumo semanal.\n",
        "\n",
        "Este comportamiento puede ser útil para:\n",
        "\n",
        "- Optimizar la logística de entregas.\n",
        "\n",
        "- Ajustar campañas promocionales a las horas de mayor tráfico.\n",
        "\n",
        "- Comprender los hábitos de consumo por franja horaria.\n"
      ]
    },
    {
      "cell_type": "markdown",
      "id": "documented-command",
      "metadata": {
        "id": "documented-command"
      },
      "source": [
        "### [A3] ¿Qué día de la semana compran víveres las personas?"
      ]
    },
    {
      "cell_type": "code",
      "execution_count": null,
      "id": "chief-digit",
      "metadata": {
        "id": "chief-digit",
        "outputId": "c70c56fe-f699-4450-9de7-d75fc473f19e"
      },
      "outputs": [
        {
          "data": {
            "image/png": "[encoded data removed]",
            "text/plain": [
              "<Figure size 800x500 with 1 Axes>"
            ]
          },
          "metadata": {},
          "output_type": "display_data"
        }
      ],
      "source": [
        "# Contar pedidos por día de la semana\n",
        "orders_by_day = orders['order_dow'].value_counts().sort_index()\n",
        "\n",
        "# Graficar\n",
        "orders_by_day.plot(kind='bar',\n",
        "                   color='lightgreen',\n",
        "                   edgecolor='black',\n",
        "                   figsize=(8,5),\n",
        "                   title='Número de pedidos por día de la semana',\n",
        "                   xlabel='Día de la semana (0=Domingo, 6=Sábado)',\n",
        "                   ylabel='Número de pedidos',\n",
        "                   alpha=0.7,\n",
        "                   rot=0)\n",
        "\n",
        "# Mostrar gráfica\n",
        "plt.show()"
      ]
    },
    {
      "cell_type": "markdown",
      "id": "dominant-lightning",
      "metadata": {
        "id": "dominant-lightning"
      },
      "source": [
        "Escribe aquí tus conclusiones\n",
        "<div style=\"background-color:#d4edda; padding: 10px; border-radius: 5px;\">\n",
        "\n",
        "Se analizaron los pedidos realizados según el día de la semana. El resultado muestra que la mayor parte de los pedidos ocurren los domingos y lunes, lo que sugiere que las personas planifican sus compras al comenzar la semana o durante el fin de semana.\n",
        "\n",
        "Esto puede ser útil para estrategias de promociones, abastecimiento de productos o refuerzos logísticos en esos días con alta demanda."
      ]
    },
    {
      "cell_type": "markdown",
      "id": "cutting-concert",
      "metadata": {
        "id": "cutting-concert"
      },
      "source": [
        "### [A4] ¿Cuánto tiempo esperan las personas hasta hacer otro pedido? Comenta sobre los valores mínimos y máximos."
      ]
    },
    {
      "cell_type": "code",
      "execution_count": null,
      "id": "c231f523",
      "metadata": {
        "id": "c231f523",
        "outputId": "0dfdf2ee-1a0b-4d62-b2b1-922e13906252"
      },
      "outputs": [
        {
          "data": {
            "image/png": "[encoded data removed]",
            "text/plain": [
              "<Figure size 1000x600 with 1 Axes>"
            ]
          },
          "metadata": {},
          "output_type": "display_data"
        }
      ],
      "source": [
        "# Objetivo: Visualizar la distribución de la columna days_since_prior_order del DF orders, para entender cuánto tiempo esperra la gente para hacer otro pedido.\n",
        "\n",
        "# Filtrar valores no nulos\n",
        "days_between_orders = orders['days_since_prior_order'].dropna()\n",
        "\n",
        "# Graficar histograma\n",
        "days_between_orders.plot(kind='hist',\n",
        "                         bins=range(0, 32),  # de 0 a 31 días\n",
        "                         edgecolor='black',\n",
        "                         color='orange',\n",
        "                         title='Días hasta el siguiente pedido',\n",
        "                         xlabel='Días desde el pedido anterior',\n",
        "                         ylabel='Número de pedidos',\n",
        "                         figsize=(10,6),\n",
        "                         alpha=0.7)\n",
        "\n",
        "plt.grid(axis='y', linestyle='--', alpha=0.5)\n",
        "plt.show()"
      ]
    },
    {
      "cell_type": "markdown",
      "id": "discrete-vertex",
      "metadata": {
        "id": "discrete-vertex"
      },
      "source": [
        "Escribe aquí tus conclusiones\n",
        "<div style=\"background-color:#d4edda; padding: 10px; border-radius: 5px;\">\n",
        "\n",
        "El análisis de la columna 'days_since_prior_order' muestra que:\n",
        "\n",
        "- El tiempo más común entre pedidos es de **7 días**, lo que indica una fuerte tendencia de pedidos semanales.\n",
        "- También se observa un pico en los **30 días**, lo cual puede deberse a usuarios que compran mensualmente o  truncado en el sistema para valores fuera del rango original (podría ser artificial).\n",
        "\n",
        "El valor mínimo es **0 días**, indicando compras múltiples en el mismo día, y el máximo es **30 días**. La mayoría de los pedidos están concentrados entre los días 5 y 10.\n"
      ]
    },
    {
      "cell_type": "markdown",
      "id": "tight-staff",
      "metadata": {
        "id": "tight-staff"
      },
      "source": [
        "# [B] Intermedio (deben completarse todos para aprobar)\n",
        "\n",
        "1. ¿Existe alguna diferencia entre las distribuciones `'order_hour_of_day'` de los miércoles y los sábados? Traza gráficos de barra de `'order_hour_of_day'` para ambos días en la misma figura y describe las diferencias que observes.\n",
        "2. Grafica la distribución para el número de órdenes que hacen los clientes (es decir, cuántos clientes hicieron solo 1 pedido, cuántos hicieron 2, cuántos 3, y así sucesivamente...).\n",
        "3. ¿Cuáles son los 20 principales productos que se piden con más frecuencia (muestra su identificación y nombre)?"
      ]
    },
    {
      "cell_type": "markdown",
      "id": "packed-classic",
      "metadata": {
        "id": "packed-classic"
      },
      "source": [
        "### [B1] Diferencia entre miércoles y sábados para  `'order_hour_of_day'`. Traza gráficos de barra para los dos días y describe las diferencias que veas."
      ]
    },
    {
      "cell_type": "code",
      "execution_count": null,
      "id": "d89b8403",
      "metadata": {
        "id": "d89b8403"
      },
      "outputs": [],
      "source": [
        "# Filtrar pedidos de miércoles y sábado\n",
        "wednesday_orders = orders[orders['order_dow'] == 3]\n",
        "saturday_orders = orders[orders['order_dow'] == 6]"
      ]
    },
    {
      "cell_type": "code",
      "execution_count": null,
      "id": "797c90a8",
      "metadata": {
        "id": "797c90a8"
      },
      "outputs": [],
      "source": [
        "# Contar pedidos por hora\n",
        "wednesday_by_hour = wednesday_orders['order_hour_of_day'].value_counts().sort_index()\n",
        "saturday_by_hour = saturday_orders['order_hour_of_day'].value_counts().sort_index()"
      ]
    },
    {
      "cell_type": "code",
      "execution_count": null,
      "id": "83447d33-1ecb-40e5-b411-699805d4de00",
      "metadata": {
        "id": "83447d33-1ecb-40e5-b411-699805d4de00"
      },
      "outputs": [],
      "source": [
        "# Crear DataFrame combinado\n",
        "hour_comparison = pd.DataFrame({\n",
        "    'Miércoles': wednesday_by_hour,\n",
        "    'Sábado': saturday_by_hour\n",
        "})"
      ]
    },
    {
      "cell_type": "code",
      "execution_count": null,
      "id": "35bcea30",
      "metadata": {
        "id": "35bcea30",
        "outputId": "85eafec2-d18e-45bd-9425-347df817deb8"
      },
      "outputs": [
        {
          "data": {
            "image/png": "[encoded data removed]",
            "text/plain": [
              "<Figure size 1200x600 with 1 Axes>"
            ]
          },
          "metadata": {},
          "output_type": "display_data"
        }
      ],
      "source": [
        "# Graficar\n",
        "hour_comparison.plot(kind='bar',\n",
        "                     figsize=(12,6),\n",
        "                     alpha=0.7,\n",
        "                     title='Comparación de pedidos por hora del día: Miércoles vs. Sábado',\n",
        "                     xlabel='Hora del día',\n",
        "                     ylabel='Número de pedidos',\n",
        "                     color=['cornflowerblue', 'lightgreen'],\n",
        "                     edgecolor='black',\n",
        "                     rot=0\n",
        "                    )\n",
        "\n",
        "# Mostrar gráfica\n",
        "plt.grid(axis='y', linestyle='--', alpha=0.5)\n",
        "plt.show()\n"
      ]
    },
    {
      "cell_type": "markdown",
      "id": "charitable-congo",
      "metadata": {
        "id": "charitable-congo"
      },
      "source": [
        "Escribe aquí tus conclusiones\n",
        "<div style=\"background-color:#d4edda; padding: 10px; border-radius: 5px;\">\n",
        "\n",
        "\n",
        "Se compararon los patrones de pedido por hora en miércoles (order_dow = 3) y sábado (order_dow = 6).\n",
        "\n",
        "**Hallazgos clave:**\n",
        "\n",
        "- Ambos días muestran **alta actividad entre las 10:00 y las 15:00 horas**.\n",
        "- Los **miércoles** tienen un inicio de actividad más temprano, con más pedidos a partir de las **7:00 a.m.**, lo cual podría deberse a rutinas laborales.\n",
        "- Los **sábados** presentan una ligera concentración de pedidos en la **tarde**, especialmente después de las **13:00 horas**, lo que puede reflejar hábitos de compra de fin de semana.\n",
        "- Después de las **17:00 horas**, ambos días comienzan a disminuir su actividad de manera similar.\n",
        "\n"
      ]
    },
    {
      "cell_type": "markdown",
      "id": "e3891143",
      "metadata": {
        "id": "e3891143"
      },
      "source": [
        "### [B2] ¿Cuál es la distribución para el número de pedidos por cliente?"
      ]
    },
    {
      "cell_type": "code",
      "execution_count": null,
      "id": "d8c26c23",
      "metadata": {
        "id": "d8c26c23",
        "outputId": "19e740fe-a3c6-4765-d00d-c0db3aba8733"
      },
      "outputs": [
        {
          "data": {
            "text/plain": [
              "Index(['order_id', 'user_id', 'order_number', 'order_dow', 'order_hour_of_day',\n",
              "       'days_since_prior_order'],\n",
              "      dtype='object')"
            ]
          },
          "execution_count": 50,
          "metadata": {},
          "output_type": "execute_result"
        }
      ],
      "source": [
        "# para el análisis B2 vamos a trabajar con la columna order_number en el DataFrame orders, ya que indica cuántos pedidos ha hecho cada cliente.\n",
        "orders.columns"
      ]
    },
    {
      "cell_type": "code",
      "execution_count": null,
      "id": "00e69a66",
      "metadata": {
        "id": "00e69a66"
      },
      "outputs": [],
      "source": [
        "# Objetivo: Visualizar cuántos clientes han realizado 1, 2, 3, … n pedidos.\n",
        "# Contar cuántos pedidos ha hecho cada cliente\n",
        "pedidos_por_cliente = orders.groupby('user_id')['order_id'].count()\n"
      ]
    },
    {
      "cell_type": "code",
      "execution_count": null,
      "id": "2d6c7558-2ea0-474e-ac24-5c7364601d92",
      "metadata": {
        "id": "2d6c7558-2ea0-474e-ac24-5c7364601d92",
        "outputId": "db603798-67b2-4fc2-f2df-71c051d12e12"
      },
      "outputs": [
        {
          "data": {
            "image/png": "[encoded data removed]",
            "text/plain": [
              "<Figure size 1200x600 with 1 Axes>"
            ]
          },
          "metadata": {},
          "output_type": "display_data"
        }
      ],
      "source": [
        "# Histograma usando .hist()\n",
        "pedidos_por_cliente.hist(bins=30,\n",
        "                         figsize=(12, 6),\n",
        "                         color='orchid',\n",
        "                         edgecolor='black',\n",
        "                         alpha=0.7)\n",
        "\n",
        "plt.title('Distribución de número de pedidos por cliente')\n",
        "plt.xlabel('Número total de pedidos')\n",
        "plt.ylabel('Número de clientes')\n",
        "plt.show()\n"
      ]
    },
    {
      "cell_type": "markdown",
      "id": "d2eff7d5",
      "metadata": {
        "id": "d2eff7d5"
      },
      "source": [
        "Escribe aquí tus conclusiones\n",
        "<div style=\"background-color:#d4edda; padding: 10px; border-radius: 5px;\">\n",
        "Para entender cuántos pedidos realiza cada cliente, realizamos un análisis de frecuencia utilizando la columna user_id de la tabla orders.\n",
        "\n",
        "Pasos:\n",
        "1. Agrupamos los datos por user_id y contamos cuántos pedidos (order_id) ha hecho cada uno.\n",
        "2. Luego, graficamos esta información usando un histograma para visualizar la distribución.\n",
        "\n",
        "\n",
        "Interpretación del gráfico:\n",
        "- La mayoría de los clientes ha realizado sólo entre 1 y 2 pedidos.\n",
        "- A medida que incrementa el número total de pedidos, disminuye la cantidad de clientes que llegan a ese nivel.\n",
        "- Se observa una distribución sesgada hacia la izquierda, lo cual es típico en plataformas de e-commerce: muchos usuarios nuevos o esporádicos, pocos usuarios muy fieles.\n",
        "\n",
        "Esta información puede ser útil para:\n",
        "- Diseñar estrategias de retención de clientes.\n",
        "- Identificar segmentos de clientes frecuentes."
      ]
    },
    {
      "cell_type": "markdown",
      "id": "54a0319c",
      "metadata": {
        "id": "54a0319c"
      },
      "source": [
        "### [B3] ¿Cuáles son los 20 productos más populares (muestra su ID y nombre)?"
      ]
    },
    {
      "cell_type": "code",
      "execution_count": null,
      "id": "exterior-arizona",
      "metadata": {
        "id": "exterior-arizona",
        "scrolled": true,
        "outputId": "3dc5c9fd-a542-46c5-b396-fdd6e7ecbc42"
      },
      "outputs": [
        {
          "data": {
            "text/plain": [
              "Index(['order_id', 'product_id', 'add_to_cart_order', 'reordered'], dtype='object')"
            ]
          },
          "execution_count": 53,
          "metadata": {},
          "output_type": "execute_result"
        }
      ],
      "source": [
        "order_products.columns"
      ]
    },
    {
      "cell_type": "code",
      "execution_count": null,
      "id": "universal-facial",
      "metadata": {
        "id": "universal-facial",
        "outputId": "2d64f9ee-40a8-41da-b67b-5ceaf910a51a"
      },
      "outputs": [
        {
          "name": "stdout",
          "output_type": "stream",
          "text": [
            "    product_id              product_name  times_ordered\n",
            "0        24852                    Banana          66050\n",
            "1        13176    Bag of Organic Bananas          53297\n",
            "2        21137      Organic Strawberries          37039\n",
            "3        21903      Organic Baby Spinach          33971\n",
            "4        47209      Organic Hass Avocado          29773\n",
            "5        47766           Organic Avocado          24689\n",
            "6        47626               Large Lemon          21495\n",
            "7        16797              Strawberries          20018\n",
            "8        26209                     Limes          19690\n",
            "9        27845        Organic Whole Milk          19600\n",
            "10       27966       Organic Raspberries          19197\n",
            "11       22935      Organic Yellow Onion          15898\n",
            "12       24964            Organic Garlic          15292\n",
            "13       45007          Organic Zucchini          14584\n",
            "14       39275       Organic Blueberries          13879\n",
            "15       49683            Cucumber Kirby          13675\n",
            "16       28204        Organic Fuji Apple          12544\n",
            "17        5876             Organic Lemon          12232\n",
            "18        8277  Apple Honeycrisp Organic          11993\n",
            "19       40706    Organic Grape Tomatoes          11781\n"
          ]
        }
      ],
      "source": [
        "# 1. Contar cuántas veces se pidió cada producto\n",
        "top_products = order_products['product_id'].value_counts().head(20).reset_index()\n",
        "top_products.columns = ['product_id', 'times_ordered']\n",
        "\n",
        "# 2. Unir con la tabla de productos para obtener los nombres\n",
        "top_products = top_products.merge(products[['product_id', 'product_name']], on='product_id', how='left')\n",
        "\n",
        "# 3. Mostrar los resultados\n",
        "print(top_products[['product_id', 'product_name', 'times_ordered']])"
      ]
    },
    {
      "cell_type": "code",
      "execution_count": null,
      "id": "bbcdd20b",
      "metadata": {
        "id": "bbcdd20b",
        "outputId": "226491c8-82e7-4617-de91-3e809fc068f6"
      },
      "outputs": [
        {
          "data": {
            "image/png": "[encoded data removed]",
            "text/plain": [
              "<Figure size 1000x800 with 1 Axes>"
            ]
          },
          "metadata": {},
          "output_type": "display_data"
        }
      ],
      "source": [
        "# Gráfico de los productos más pedidos\n",
        "top_products.plot(kind='barh',\n",
        "                  x='product_name',\n",
        "                  y='times_ordered',\n",
        "                  figsize=(10, 8),\n",
        "                  legend=False,\n",
        "                  color='lightgreen',\n",
        "                  edgecolor='black',\n",
        "                  title='Top 20 productos más pedidos')\n",
        "plt.xlabel('Número de veces pedido')\n",
        "plt.ylabel('Producto')\n",
        "plt.gca().invert_yaxis()  # para que el más pedido esté arriba\n",
        "plt.tight_layout()\n",
        "plt.show()"
      ]
    },
    {
      "cell_type": "markdown",
      "id": "7df00f47",
      "metadata": {
        "id": "7df00f47"
      },
      "source": [
        "Escribe aquí tus conclusiones\n",
        "<div style=\"background-color:#d4edda; padding: 10px; border-radius: 5px;\">\n",
        "    \n",
        "Banana y Bag of Organic Bananas son, por mucho, los productos más populares.\n",
        "La mayoría del top 20 son productos orgánicos, lo que da pistas del perfil de los consumidores.\n",
        "    Podemos concluir que:\n",
        "\n",
        "  1. Alta preferencia por productos frescos y orgánicos:\n",
        "  La mayoría de los productos más pedidos son frutas, verduras y vegetales orgánicos: bananas, fresas, espinaca, aguacate, cebolla, ajo, etc.  \n",
        "  Esto sugiere que muchos clientes priorizan una alimentación saludable y están dispuestos a pagar más por versiones orgánicas de productos básicos.\n",
        "\n",
        "  2. Consumo recurrente de productos esenciales: Los artículos más pedidos son productos de alta rotación que probablemente se compran semanal o quincenalmente.\n",
        "\n",
        "  Ejemplos: leche, bananas, ajo, limón, todos son ingredientes comunes y versátiles que se consumen rápidamente.\n",
        "\n"
      ]
    },
    {
      "cell_type": "markdown",
      "id": "gross-theme",
      "metadata": {
        "id": "gross-theme"
      },
      "source": [
        "# [C] Difícil (deben completarse todos para aprobar)\n",
        "\n",
        "1. ¿Cuántos artículos suelen comprar las personas en un pedido? ¿Cómo es la distribución?\n",
        "2. ¿Cuáles son los 20 principales artículos que vuelven a pedirse con mayor frecuencia (muestra sus nombres e IDs de los productos)?\n",
        "3. Para cada producto, ¿cuál es la tasa de repetición del pedido (número de repeticiones de pedido/total de pedidos?\n",
        "4. Para cada cliente, ¿qué proporción de los productos que pidió ya los había pedido? Calcula la tasa de repetición de pedido para cada usuario en lugar de para cada producto.\n",
        "5. ¿Cuáles son los 20 principales artículos que la gente pone primero en sus carritos (muestra las IDs de los productos, sus nombres, y el número de veces en que fueron el primer artículo en añadirse al carrito)?"
      ]
    },
    {
      "cell_type": "markdown",
      "id": "romantic-deposit",
      "metadata": {
        "id": "romantic-deposit"
      },
      "source": [
        "### [C1] ¿Cuántos artículos compran normalmente las personas en un pedido? ¿Cómo es la distribución?"
      ]
    },
    {
      "cell_type": "code",
      "execution_count": null,
      "id": "virtual-punch",
      "metadata": {
        "id": "virtual-punch",
        "outputId": "5407c30e-6b45-468a-ff4b-16f1938e1bb7"
      },
      "outputs": [
        {
          "data": {
            "text/plain": [
              "Index(['order_id', 'product_id', 'add_to_cart_order', 'reordered'], dtype='object')"
            ]
          },
          "execution_count": 56,
          "metadata": {},
          "output_type": "execute_result"
        }
      ],
      "source": [
        "# Usamos el DataFrame order_products para contar cuántos product_id hay por cada order_id\n",
        "order_products.columns"
      ]
    },
    {
      "cell_type": "code",
      "execution_count": null,
      "id": "sensitive-breathing",
      "metadata": {
        "id": "sensitive-breathing"
      },
      "outputs": [],
      "source": [
        "# Contar cuántos productos se compraron por cada pedido\n",
        "items_per_order = order_products.groupby('order_id')['product_id'].count()"
      ]
    },
    {
      "cell_type": "code",
      "execution_count": null,
      "id": "completed-frank",
      "metadata": {
        "id": "completed-frank",
        "outputId": "e741dd34-d4b1-47e5-ec14-080f5f016729"
      },
      "outputs": [
        {
          "data": {
            "image/png": "[encoded data removed]",
            "text/plain": [
              "<Figure size 1000x500 with 1 Axes>"
            ]
          },
          "metadata": {},
          "output_type": "display_data"
        }
      ],
      "source": [
        "# Visualizar la distribución\n",
        "items_per_order.plot(kind='hist',\n",
        "                     bins=50,\n",
        "                     color='lightcoral',\n",
        "                     edgecolor='black',\n",
        "                     alpha=0.7,\n",
        "                     title='Distribución de artículos por pedido',\n",
        "                     figsize=(10, 5),\n",
        "                     xlabel='Número de artículos en el pedido',\n",
        "                     ylabel='Número de pedidos')\n",
        "\n",
        "plt.grid(True)\n",
        "plt.tight_layout()\n",
        "plt.show()"
      ]
    },
    {
      "cell_type": "markdown",
      "id": "designed-mortality",
      "metadata": {
        "id": "designed-mortality"
      },
      "source": [
        "Escribe aquí tus conclusiones\n",
        "<div style=\"background-color:#d4edda; padding: 10px; border-radius: 5px;\">\n",
        "    \n",
        "- La mayoría de los pedidos contienen entre 3 y 15 artículos, siendo este rango el más común.\n",
        "\n",
        "- Esto sugiere que los usuarios generalmente hacen compras pequeñas o medianas, posiblemente de reposición semanal o complementaria.\n",
        "\n",
        "- Hay algunos pocos pedidos con más de 50 artículos, pero son casos excepcionales. Esto puede representar compras familiares grandes, compras grupales o usuarios con un patrón de consumo poco común.\n",
        "\n",
        "- La distribución decrece rápidamente, lo que confirma que los pedidos grandes son raros, y que la plataforma se usa principalmente para compras rápidas o regulares."
      ]
    },
    {
      "cell_type": "markdown",
      "id": "5e6b5537",
      "metadata": {
        "id": "5e6b5537"
      },
      "source": [
        "### [C2] ¿Cuáles son los 20 principales artículos que vuelven a pedirse con mayor frecuencia (muestra sus nombres e IDs de los productos)?"
      ]
    },
    {
      "cell_type": "code",
      "execution_count": null,
      "id": "9374e55a",
      "metadata": {
        "id": "9374e55a",
        "outputId": "0e242aff-dad1-4f45-f8ab-214870b0333d"
      },
      "outputs": [
        {
          "data": {
            "text/plain": [
              "Index(['order_id', 'product_id', 'add_to_cart_order', 'reordered'], dtype='object')"
            ]
          },
          "execution_count": 59,
          "metadata": {},
          "output_type": "execute_result"
        }
      ],
      "source": [
        "order_products.columns\n",
        "#usamos la columna reordered del DF order_products\n",
        "#reordered = 1 significa que ese producto fue pedido nuevamente por el mismo cliente."
      ]
    },
    {
      "cell_type": "code",
      "execution_count": null,
      "id": "possible-change",
      "metadata": {
        "id": "possible-change",
        "scrolled": true,
        "outputId": "e2281434-d441-41b3-9c47-d561299e94c7"
      },
      "outputs": [
        {
          "data": {
            "text/html": [
              "<div>\n",
              "<style scoped>\n",
              "    .dataframe tbody tr th:only-of-type {\n",
              "        vertical-align: middle;\n",
              "    }\n",
              "\n",
              "    .dataframe tbody tr th {\n",
              "        vertical-align: top;\n",
              "    }\n",
              "\n",
              "    .dataframe thead th {\n",
              "        text-align: right;\n",
              "    }\n",
              "</style>\n",
              "<table border=\"1\" class=\"dataframe\">\n",
              "  <thead>\n",
              "    <tr style=\"text-align: right;\">\n",
              "      <th></th>\n",
              "      <th>product_id</th>\n",
              "      <th>product_name</th>\n",
              "    </tr>\n",
              "  </thead>\n",
              "  <tbody>\n",
              "    <tr>\n",
              "      <th>0</th>\n",
              "      <td>24852</td>\n",
              "      <td>Banana</td>\n",
              "    </tr>\n",
              "    <tr>\n",
              "      <th>1</th>\n",
              "      <td>13176</td>\n",
              "      <td>Bag of Organic Bananas</td>\n",
              "    </tr>\n",
              "    <tr>\n",
              "      <th>2</th>\n",
              "      <td>21137</td>\n",
              "      <td>Organic Strawberries</td>\n",
              "    </tr>\n",
              "    <tr>\n",
              "      <th>3</th>\n",
              "      <td>21903</td>\n",
              "      <td>Organic Baby Spinach</td>\n",
              "    </tr>\n",
              "    <tr>\n",
              "      <th>4</th>\n",
              "      <td>47209</td>\n",
              "      <td>Organic Hass Avocado</td>\n",
              "    </tr>\n",
              "    <tr>\n",
              "      <th>5</th>\n",
              "      <td>47766</td>\n",
              "      <td>Organic Avocado</td>\n",
              "    </tr>\n",
              "    <tr>\n",
              "      <th>6</th>\n",
              "      <td>27845</td>\n",
              "      <td>Organic Whole Milk</td>\n",
              "    </tr>\n",
              "    <tr>\n",
              "      <th>7</th>\n",
              "      <td>47626</td>\n",
              "      <td>Large Lemon</td>\n",
              "    </tr>\n",
              "    <tr>\n",
              "      <th>8</th>\n",
              "      <td>27966</td>\n",
              "      <td>Organic Raspberries</td>\n",
              "    </tr>\n",
              "    <tr>\n",
              "      <th>9</th>\n",
              "      <td>16797</td>\n",
              "      <td>Strawberries</td>\n",
              "    </tr>\n",
              "    <tr>\n",
              "      <th>10</th>\n",
              "      <td>26209</td>\n",
              "      <td>Limes</td>\n",
              "    </tr>\n",
              "    <tr>\n",
              "      <th>11</th>\n",
              "      <td>22935</td>\n",
              "      <td>Organic Yellow Onion</td>\n",
              "    </tr>\n",
              "    <tr>\n",
              "      <th>12</th>\n",
              "      <td>24964</td>\n",
              "      <td>Organic Garlic</td>\n",
              "    </tr>\n",
              "    <tr>\n",
              "      <th>13</th>\n",
              "      <td>45007</td>\n",
              "      <td>Organic Zucchini</td>\n",
              "    </tr>\n",
              "    <tr>\n",
              "      <th>14</th>\n",
              "      <td>49683</td>\n",
              "      <td>Cucumber Kirby</td>\n",
              "    </tr>\n",
              "    <tr>\n",
              "      <th>15</th>\n",
              "      <td>28204</td>\n",
              "      <td>Organic Fuji Apple</td>\n",
              "    </tr>\n",
              "    <tr>\n",
              "      <th>16</th>\n",
              "      <td>8277</td>\n",
              "      <td>Apple Honeycrisp Organic</td>\n",
              "    </tr>\n",
              "    <tr>\n",
              "      <th>17</th>\n",
              "      <td>39275</td>\n",
              "      <td>Organic Blueberries</td>\n",
              "    </tr>\n",
              "    <tr>\n",
              "      <th>18</th>\n",
              "      <td>5876</td>\n",
              "      <td>Organic Lemon</td>\n",
              "    </tr>\n",
              "    <tr>\n",
              "      <th>19</th>\n",
              "      <td>49235</td>\n",
              "      <td>Organic Half &amp; Half</td>\n",
              "    </tr>\n",
              "  </tbody>\n",
              "</table>\n",
              "</div>"
            ],
            "text/plain": [
              "    product_id              product_name\n",
              "0        24852                    Banana\n",
              "1        13176    Bag of Organic Bananas\n",
              "2        21137      Organic Strawberries\n",
              "3        21903      Organic Baby Spinach\n",
              "4        47209      Organic Hass Avocado\n",
              "5        47766           Organic Avocado\n",
              "6        27845        Organic Whole Milk\n",
              "7        47626               Large Lemon\n",
              "8        27966       Organic Raspberries\n",
              "9        16797              Strawberries\n",
              "10       26209                     Limes\n",
              "11       22935      Organic Yellow Onion\n",
              "12       24964            Organic Garlic\n",
              "13       45007          Organic Zucchini\n",
              "14       49683            Cucumber Kirby\n",
              "15       28204        Organic Fuji Apple\n",
              "16        8277  Apple Honeycrisp Organic\n",
              "17       39275       Organic Blueberries\n",
              "18        5876             Organic Lemon\n",
              "19       49235       Organic Half & Half"
            ]
          },
          "execution_count": 60,
          "metadata": {},
          "output_type": "execute_result"
        }
      ],
      "source": [
        "# Filtrar solo los productos que fueron reordenados\n",
        "reordered = order_products[order_products['reordered'] == 1]\n",
        "\n",
        "# Contar cuántas veces se reordenó cada product_id\n",
        "top_reordered_counts = reordered['product_id'].value_counts().head(20)\n",
        "\n",
        "# Convertir a DF\n",
        "top_reordered_df = top_reordered_counts.reset_index()\n",
        "top_reordered_df.columns = ['product_id', 'reorder_count']\n",
        "\n",
        "# Unir con products para obtener los nombres\n",
        "top_reordered_products = top_reordered_df.merge(products[['product_id', 'product_name']], on='product_id', how='left')\n",
        "\n",
        "# Mostrar resultado final\n",
        "top_reordered_products[['product_id', 'product_name']]"
      ]
    },
    {
      "cell_type": "code",
      "execution_count": null,
      "id": "professional-surfing",
      "metadata": {
        "id": "professional-surfing",
        "scrolled": true,
        "outputId": "8410af1a-db4c-4fe6-ef19-24ac7aee8723"
      },
      "outputs": [
        {
          "data": {
            "image/png": "[encoded data removed]",
            "text/plain": [
              "<Figure size 1000x800 with 1 Axes>"
            ]
          },
          "metadata": {},
          "output_type": "display_data"
        }
      ],
      "source": [
        "# Graficar\n",
        "top_reordered_products.plot(\n",
        "    kind='barh',\n",
        "    x='product_name',\n",
        "    y='reorder_count',\n",
        "    figsize=(10, 8),\n",
        "    color='lightcoral',\n",
        "    edgecolor='black',\n",
        "    title='Top 20 productos más reordenados',\n",
        "    xlabel='Veces reordenado',\n",
        "    ylabel='Producto'\n",
        ")\n",
        "\n",
        "# Mostrar la gráfica\n",
        "plt.tight_layout()\n",
        "plt.show()"
      ]
    },
    {
      "cell_type": "markdown",
      "id": "80e70c74",
      "metadata": {
        "id": "80e70c74"
      },
      "source": [
        "Escribe aquí tus conclusiones\n",
        "\n",
        "<div style=\"background-color:#d4edda; padding: 10px; border-radius: 5px;\">\n",
        "\n",
        "1. Los productos básicos dominan las recompras:  \n",
        "Bananas, bolsas de bananas orgánicas, y fresas orgánicas son los productos más reordenados.  \n",
        "Esto indica que los clientes tienden a repetir pedidos de productos frescos y esenciales en su dieta diaria.\n",
        "\n",
        "2. Los productos orgánicos tienen alta fidelidad:  \n",
        "Una gran proporción de los productos más reordenados son orgánicos (espinaca baby, aguacate hass, cebolla amarilla, ajo, leche, etc.).  \n",
        "Esto sugiere que los consumidores que compran productos orgánicos tienden a ser consistentes en sus preferencias, lo cual puede ser aprovechado para campañas de fidelización o recomendaciones personalizadas."
      ]
    },
    {
      "cell_type": "markdown",
      "id": "9d312b14",
      "metadata": {
        "id": "9d312b14"
      },
      "source": [
        "### [C3] Para cada producto, ¿cuál es la proporción de las veces que se pide y que se vuelve a pedir?"
      ]
    },
    {
      "cell_type": "code",
      "execution_count": null,
      "id": "103e7fe1",
      "metadata": {
        "id": "103e7fe1",
        "outputId": "dd2bec73-c2cc-47dc-c61f-d6767000b271"
      },
      "outputs": [
        {
          "data": {
            "text/html": [
              "<div>\n",
              "<style scoped>\n",
              "    .dataframe tbody tr th:only-of-type {\n",
              "        vertical-align: middle;\n",
              "    }\n",
              "\n",
              "    .dataframe tbody tr th {\n",
              "        vertical-align: top;\n",
              "    }\n",
              "\n",
              "    .dataframe thead th {\n",
              "        text-align: right;\n",
              "    }\n",
              "</style>\n",
              "<table border=\"1\" class=\"dataframe\">\n",
              "  <thead>\n",
              "    <tr style=\"text-align: right;\">\n",
              "      <th></th>\n",
              "      <th>product_id</th>\n",
              "      <th>total_reordered</th>\n",
              "      <th>total_orders</th>\n",
              "      <th>reorder_ratio</th>\n",
              "      <th>product_name</th>\n",
              "    </tr>\n",
              "  </thead>\n",
              "  <tbody>\n",
              "    <tr>\n",
              "      <th>0</th>\n",
              "      <td>1</td>\n",
              "      <td>158</td>\n",
              "      <td>280</td>\n",
              "      <td>0.564286</td>\n",
              "      <td>Chocolate Sandwich Cookies</td>\n",
              "    </tr>\n",
              "    <tr>\n",
              "      <th>1</th>\n",
              "      <td>2</td>\n",
              "      <td>0</td>\n",
              "      <td>11</td>\n",
              "      <td>0.000000</td>\n",
              "      <td>All-Seasons Salt</td>\n",
              "    </tr>\n",
              "    <tr>\n",
              "      <th>2</th>\n",
              "      <td>3</td>\n",
              "      <td>31</td>\n",
              "      <td>42</td>\n",
              "      <td>0.738095</td>\n",
              "      <td>Robust Golden Unsweetened Oolong Tea</td>\n",
              "    </tr>\n",
              "    <tr>\n",
              "      <th>3</th>\n",
              "      <td>4</td>\n",
              "      <td>25</td>\n",
              "      <td>49</td>\n",
              "      <td>0.510204</td>\n",
              "      <td>Smart Ones Classic Favorites Mini Rigatoni Wit...</td>\n",
              "    </tr>\n",
              "    <tr>\n",
              "      <th>4</th>\n",
              "      <td>7</td>\n",
              "      <td>1</td>\n",
              "      <td>2</td>\n",
              "      <td>0.500000</td>\n",
              "      <td>Pure Coconut Water With Orange</td>\n",
              "    </tr>\n",
              "  </tbody>\n",
              "</table>\n",
              "</div>"
            ],
            "text/plain": [
              "   product_id  total_reordered  total_orders  reorder_ratio  \\\n",
              "0           1              158           280       0.564286   \n",
              "1           2                0            11       0.000000   \n",
              "2           3               31            42       0.738095   \n",
              "3           4               25            49       0.510204   \n",
              "4           7                1             2       0.500000   \n",
              "\n",
              "                                        product_name  \n",
              "0                         Chocolate Sandwich Cookies  \n",
              "1                                   All-Seasons Salt  \n",
              "2               Robust Golden Unsweetened Oolong Tea  \n",
              "3  Smart Ones Classic Favorites Mini Rigatoni Wit...  \n",
              "4                     Pure Coconut Water With Orange  "
            ]
          },
          "execution_count": 62,
          "metadata": {},
          "output_type": "execute_result"
        }
      ],
      "source": [
        "# Proporción de reordenamiento = Veces que fue ordenado (total) / Veces que fue reordenado\n",
        "# Agrupar por producto para obtener:\n",
        "# - Total de veces ordenado (count)\n",
        "# - Total de veces reordenado (sum de la columna 'reordered')\n",
        "product_reorder_stats = order_products.groupby('product_id')['reordered'].agg(['sum', 'count']).reset_index()\n",
        "\n",
        "# Renombrar columnas para claridad\n",
        "product_reorder_stats.columns = ['product_id', 'total_reordered', 'total_orders']\n",
        "\n",
        "# Calcular la proporción de reordenamiento\n",
        "product_reorder_stats['reorder_ratio'] = product_reorder_stats['total_reordered'] / product_reorder_stats['total_orders']\n",
        "\n",
        "# Unir con los nombres de producto\n",
        "product_reorder_stats = product_reorder_stats.merge(products[['product_id', 'product_name']], on='product_id')\n",
        "\n",
        "# Mostrar los primeros registros\n",
        "product_reorder_stats.head()\n"
      ]
    },
    {
      "cell_type": "code",
      "execution_count": null,
      "id": "25f494ee-8fa9-49f8-98ec-691ae6ab755b",
      "metadata": {
        "id": "25f494ee-8fa9-49f8-98ec-691ae6ab755b"
      },
      "outputs": [],
      "source": [
        "# Convertir reorder_ratio a porcentaje\n",
        "product_reorder_stats['reorder_ratio'] = product_reorder_stats['reorder_ratio'] * 100"
      ]
    },
    {
      "cell_type": "code",
      "execution_count": null,
      "id": "social-individual",
      "metadata": {
        "id": "social-individual",
        "outputId": "8963575a-8af9-4456-8e8a-c314578021bf"
      },
      "outputs": [
        {
          "data": {
            "image/png": "[encoded data removed]",
            "text/plain": [
              "<Figure size 1000x800 with 1 Axes>"
            ]
          },
          "metadata": {},
          "output_type": "display_data"
        }
      ],
      "source": [
        "# graficar los productos con mayor proporción de reordenamiento (reorder_ratio).\n",
        "\n",
        "# Filtrar productos con al menos 50 órdenes\n",
        "filtered = product_reorder_stats[product_reorder_stats['total_orders'] >= 50]\n",
        "\n",
        "# Seleccionar top 20 productos con mayor proporción de reordenamiento\n",
        "top_reorder_ratio = filtered.sort_values(by='reorder_ratio', ascending=False).head(20)\n",
        "\n",
        "# Graficar\n",
        "top_reorder_ratio.plot(\n",
        "    kind='barh',\n",
        "    x='product_name',\n",
        "    y='reorder_ratio',\n",
        "    legend=False,\n",
        "    figsize=(10, 8),\n",
        "    color='lightseagreen',\n",
        "    edgecolor='black',\n",
        "    title='Top 20 productos con mayor proporción de reordenamiento',\n",
        "    xlabel='Proporción de reordenamiento',\n",
        "    ylabel='Producto'\n",
        ")\n",
        "\n",
        "plt.tight_layout()\n",
        "plt.show()\n"
      ]
    },
    {
      "cell_type": "markdown",
      "id": "I10dEIAyldcO",
      "metadata": {
        "id": "I10dEIAyldcO"
      },
      "source": [
        "Escribe aquí tus conclusiones\n",
        "\n",
        "<div style=\"background-color:#d4edda; padding: 10px; border-radius: 5px;\">\n",
        "    \n",
        "- Lácteos y bebidas funcionales dominan el top de productos más reordenados, lo que sugiere hábitos de consumo frecuentes y fidelidad a ciertas marcas o tipos de productos (ej. leche orgánica, agua purificada).\n",
        "\n",
        "- Productos como DanActive Vanilla Probiotic Dairy Drink o Lo-Carb Energy Drink tienen una alta retención, lo que puede indicar un nicho leal o necesidades específicas del consumidor.\n",
        "\n",
        "- Estas métricas pueden ayudar a diseñar promociones o bundles con productos que los clientes ya tienden a repetir."
      ]
    },
    {
      "cell_type": "markdown",
      "id": "subject-boxing",
      "metadata": {
        "id": "subject-boxing"
      },
      "source": [
        "### [C4] Para cada cliente, ¿qué proporción de sus productos ya los había pedido?"
      ]
    },
    {
      "cell_type": "code",
      "execution_count": null,
      "id": "medical-couple",
      "metadata": {
        "id": "medical-couple",
        "scrolled": true,
        "outputId": "ac605fc7-fa86-4b5e-911b-9a356044cfa7"
      },
      "outputs": [
        {
          "name": "stdout",
          "output_type": "stream",
          "text": [
            "Index(['order_id', 'product_id', 'add_to_cart_order', 'reordered'], dtype='object')\n",
            "Index(['order_id', 'user_id', 'order_number', 'order_dow', 'order_hour_of_day',\n",
            "       'days_since_prior_order'],\n",
            "      dtype='object')\n"
          ]
        }
      ],
      "source": [
        "print(order_products.columns)\n",
        "print(orders.columns)"
      ]
    },
    {
      "cell_type": "code",
      "execution_count": null,
      "id": "8892e4b4",
      "metadata": {
        "id": "8892e4b4",
        "outputId": "7f2a1e8e-f288-49e4-99e3-21e61ff2ca54"
      },
      "outputs": [
        {
          "data": {
            "text/html": [
              "<div>\n",
              "<style scoped>\n",
              "    .dataframe tbody tr th:only-of-type {\n",
              "        vertical-align: middle;\n",
              "    }\n",
              "\n",
              "    .dataframe tbody tr th {\n",
              "        vertical-align: top;\n",
              "    }\n",
              "\n",
              "    .dataframe thead th {\n",
              "        text-align: right;\n",
              "    }\n",
              "</style>\n",
              "<table border=\"1\" class=\"dataframe\">\n",
              "  <thead>\n",
              "    <tr style=\"text-align: right;\">\n",
              "      <th></th>\n",
              "      <th>user_id</th>\n",
              "      <th>total_reordered</th>\n",
              "      <th>total_orders</th>\n",
              "      <th>reorder_ratio</th>\n",
              "    </tr>\n",
              "  </thead>\n",
              "  <tbody>\n",
              "    <tr>\n",
              "      <th>0</th>\n",
              "      <td>2</td>\n",
              "      <td>1</td>\n",
              "      <td>26</td>\n",
              "      <td>3.85</td>\n",
              "    </tr>\n",
              "    <tr>\n",
              "      <th>1</th>\n",
              "      <td>4</td>\n",
              "      <td>0</td>\n",
              "      <td>2</td>\n",
              "      <td>0.00</td>\n",
              "    </tr>\n",
              "    <tr>\n",
              "      <th>2</th>\n",
              "      <td>5</td>\n",
              "      <td>8</td>\n",
              "      <td>12</td>\n",
              "      <td>66.67</td>\n",
              "    </tr>\n",
              "    <tr>\n",
              "      <th>3</th>\n",
              "      <td>6</td>\n",
              "      <td>0</td>\n",
              "      <td>4</td>\n",
              "      <td>0.00</td>\n",
              "    </tr>\n",
              "    <tr>\n",
              "      <th>4</th>\n",
              "      <td>7</td>\n",
              "      <td>13</td>\n",
              "      <td>14</td>\n",
              "      <td>92.86</td>\n",
              "    </tr>\n",
              "  </tbody>\n",
              "</table>\n",
              "</div>"
            ],
            "text/plain": [
              "   user_id  total_reordered  total_orders  reorder_ratio\n",
              "0        2                1            26           3.85\n",
              "1        4                0             2           0.00\n",
              "2        5                8            12          66.67\n",
              "3        6                0             4           0.00\n",
              "4        7               13            14          92.86"
            ]
          },
          "execution_count": 66,
          "metadata": {},
          "output_type": "execute_result"
        }
      ],
      "source": [
        "# Necesitamos unir order_products con orders, ya que:\n",
        "# - order_products contiene: order_id, product_id, reordered\n",
        "# - orders contiene: order_id, user_id\n",
        "\n",
        "# Unir order_products con orders para obtener user_id\n",
        "order_products_users = order_products.merge(orders[['order_id', 'user_id']], on='order_id')\n",
        "\n",
        "# Agrupar por user_id para calcular:\n",
        "# - total de productos pedidos\n",
        "# - total de productos reordenados\n",
        "customer_reorder_stats = order_products_users.groupby('user_id')['reordered'].agg(['sum', 'count']).reset_index()\n",
        "\n",
        "# Renombrar columnas\n",
        "customer_reorder_stats.columns = ['user_id', 'total_reordered', 'total_orders']\n",
        "\n",
        "# Calcular la proporción\n",
        "customer_reorder_stats['reorder_ratio'] = (customer_reorder_stats['total_reordered'] / customer_reorder_stats['total_orders']) * 100\n",
        "customer_reorder_stats['reorder_ratio'] = customer_reorder_stats['reorder_ratio'].round(2)\n",
        "\n",
        "# Mostrar los primeros registros\n",
        "customer_reorder_stats.head()\n"
      ]
    },
    {
      "cell_type": "code",
      "execution_count": null,
      "id": "8c9edc4e-c72f-40bc-8a01-91f5b32c1955",
      "metadata": {
        "id": "8c9edc4e-c72f-40bc-8a01-91f5b32c1955",
        "outputId": "f2fd059e-5181-460f-d097-220d5400b848"
      },
      "outputs": [
        {
          "data": {
            "image/png": "[encoded data removed]",
            "text/plain": [
              "<Figure size 1200x500 with 1 Axes>"
            ]
          },
          "metadata": {},
          "output_type": "display_data"
        }
      ],
      "source": [
        "#Graficar la proporción de reordenamiento por cliente\n",
        "customer_reorder_stats['reorder_ratio'].hist(\n",
        "    bins=30,\n",
        "    figsize=(12,5),\n",
        "    color='lightgreen',\n",
        "    edgecolor='black'\n",
        ")\n",
        "plt.title('Distribución de la proporción de reordenamiento por cliente')\n",
        "plt.xlabel('Proporción de reordenamiento (%)')\n",
        "plt.ylabel('Número de clientes')\n",
        "plt.tight_layout()\n",
        "plt.show()\n"
      ]
    },
    {
      "cell_type": "markdown",
      "id": "BgJSvXDsleXz",
      "metadata": {
        "id": "BgJSvXDsleXz"
      },
      "source": [
        "Escribe aquí tus conclusiones\n",
        "\n",
        "<div style=\"background-color:#d4edda; padding: 10px; border-radius: 5px;\">\n",
        "    \n",
        "1. Muchos clientes hacen pedidos completamente nuevos:  \n",
        "Hay un pico muy alto en el 0%, lo que indica que miles de clientes nunca han reordenado un producto antes (probablemente es su primer pedido o aún no generan hábito).\n",
        "\n",
        "2. Comportamientos variados en el resto de clientes:  \n",
        "A partir del 10%, la proporción se distribuye de forma más uniforme, aunque se observa un ligero incremento en los grupos entre 50% y 70%.\n",
        "Esto sugiere que muchos usuarios combinan productos nuevos y productos ya comprados.\n",
        "\n",
        "3. Clientes muy leales a ciertos productos:  \n",
        "También hay un pico al 100%, lo que indica que algunos clientes siempre reordenan productos ya conocidos, lo que habla de fidelidad o hábito fuerte de consumo."
      ]
    },
    {
      "cell_type": "markdown",
      "id": "92d35137",
      "metadata": {
        "id": "92d35137"
      },
      "source": [
        "### [C5] ¿Cuáles son los 20 principales artículos que las personas ponen primero en sus carritos?"
      ]
    },
    {
      "cell_type": "code",
      "execution_count": null,
      "id": "825f5c7c-2ef5-45cd-8166-baad49f10140",
      "metadata": {
        "id": "825f5c7c-2ef5-45cd-8166-baad49f10140",
        "outputId": "7f59f94c-cf4b-4c2d-d911-19a56d058db5"
      },
      "outputs": [
        {
          "data": {
            "text/plain": [
              "Index(['order_id', 'product_id', 'add_to_cart_order', 'reordered'], dtype='object')"
            ]
          },
          "execution_count": 68,
          "metadata": {},
          "output_type": "execute_result"
        }
      ],
      "source": [
        "order_products.columns"
      ]
    },
    {
      "cell_type": "code",
      "execution_count": null,
      "id": "0ae57274",
      "metadata": {
        "id": "0ae57274",
        "scrolled": true,
        "outputId": "0965fbd9-4aee-4261-9e52-ff4e40af2bf7"
      },
      "outputs": [
        {
          "data": {
            "text/html": [
              "<div>\n",
              "<style scoped>\n",
              "    .dataframe tbody tr th:only-of-type {\n",
              "        vertical-align: middle;\n",
              "    }\n",
              "\n",
              "    .dataframe tbody tr th {\n",
              "        vertical-align: top;\n",
              "    }\n",
              "\n",
              "    .dataframe thead th {\n",
              "        text-align: right;\n",
              "    }\n",
              "</style>\n",
              "<table border=\"1\" class=\"dataframe\">\n",
              "  <thead>\n",
              "    <tr style=\"text-align: right;\">\n",
              "      <th></th>\n",
              "      <th>product_id</th>\n",
              "      <th>first_in_cart_count</th>\n",
              "      <th>product_name</th>\n",
              "    </tr>\n",
              "  </thead>\n",
              "  <tbody>\n",
              "    <tr>\n",
              "      <th>0</th>\n",
              "      <td>24852</td>\n",
              "      <td>15562</td>\n",
              "      <td>Banana</td>\n",
              "    </tr>\n",
              "    <tr>\n",
              "      <th>1</th>\n",
              "      <td>13176</td>\n",
              "      <td>11026</td>\n",
              "      <td>Bag of Organic Bananas</td>\n",
              "    </tr>\n",
              "    <tr>\n",
              "      <th>2</th>\n",
              "      <td>27845</td>\n",
              "      <td>4363</td>\n",
              "      <td>Organic Whole Milk</td>\n",
              "    </tr>\n",
              "    <tr>\n",
              "      <th>3</th>\n",
              "      <td>21137</td>\n",
              "      <td>3946</td>\n",
              "      <td>Organic Strawberries</td>\n",
              "    </tr>\n",
              "    <tr>\n",
              "      <th>4</th>\n",
              "      <td>47209</td>\n",
              "      <td>3390</td>\n",
              "      <td>Organic Hass Avocado</td>\n",
              "    </tr>\n",
              "    <tr>\n",
              "      <th>5</th>\n",
              "      <td>21903</td>\n",
              "      <td>3336</td>\n",
              "      <td>Organic Baby Spinach</td>\n",
              "    </tr>\n",
              "    <tr>\n",
              "      <th>6</th>\n",
              "      <td>47766</td>\n",
              "      <td>3044</td>\n",
              "      <td>Organic Avocado</td>\n",
              "    </tr>\n",
              "    <tr>\n",
              "      <th>7</th>\n",
              "      <td>19660</td>\n",
              "      <td>2336</td>\n",
              "      <td>Spring Water</td>\n",
              "    </tr>\n",
              "    <tr>\n",
              "      <th>8</th>\n",
              "      <td>16797</td>\n",
              "      <td>2308</td>\n",
              "      <td>Strawberries</td>\n",
              "    </tr>\n",
              "    <tr>\n",
              "      <th>9</th>\n",
              "      <td>27966</td>\n",
              "      <td>2024</td>\n",
              "      <td>Organic Raspberries</td>\n",
              "    </tr>\n",
              "    <tr>\n",
              "      <th>10</th>\n",
              "      <td>44632</td>\n",
              "      <td>1914</td>\n",
              "      <td>Sparkling Water Grapefruit</td>\n",
              "    </tr>\n",
              "    <tr>\n",
              "      <th>11</th>\n",
              "      <td>49235</td>\n",
              "      <td>1797</td>\n",
              "      <td>Organic Half &amp; Half</td>\n",
              "    </tr>\n",
              "    <tr>\n",
              "      <th>12</th>\n",
              "      <td>47626</td>\n",
              "      <td>1737</td>\n",
              "      <td>Large Lemon</td>\n",
              "    </tr>\n",
              "    <tr>\n",
              "      <th>13</th>\n",
              "      <td>196</td>\n",
              "      <td>1733</td>\n",
              "      <td>Soda</td>\n",
              "    </tr>\n",
              "    <tr>\n",
              "      <th>14</th>\n",
              "      <td>38689</td>\n",
              "      <td>1397</td>\n",
              "      <td>Organic Reduced Fat Milk</td>\n",
              "    </tr>\n",
              "    <tr>\n",
              "      <th>15</th>\n",
              "      <td>26209</td>\n",
              "      <td>1370</td>\n",
              "      <td>Limes</td>\n",
              "    </tr>\n",
              "    <tr>\n",
              "      <th>16</th>\n",
              "      <td>12341</td>\n",
              "      <td>1340</td>\n",
              "      <td>Hass Avocados</td>\n",
              "    </tr>\n",
              "    <tr>\n",
              "      <th>17</th>\n",
              "      <td>5785</td>\n",
              "      <td>1310</td>\n",
              "      <td>Organic Reduced Fat 2% Milk</td>\n",
              "    </tr>\n",
              "    <tr>\n",
              "      <th>18</th>\n",
              "      <td>27086</td>\n",
              "      <td>1309</td>\n",
              "      <td>Half &amp; Half</td>\n",
              "    </tr>\n",
              "    <tr>\n",
              "      <th>19</th>\n",
              "      <td>22935</td>\n",
              "      <td>1246</td>\n",
              "      <td>Organic Yellow Onion</td>\n",
              "    </tr>\n",
              "  </tbody>\n",
              "</table>\n",
              "</div>"
            ],
            "text/plain": [
              "    product_id  first_in_cart_count                 product_name\n",
              "0        24852                15562                       Banana\n",
              "1        13176                11026       Bag of Organic Bananas\n",
              "2        27845                 4363           Organic Whole Milk\n",
              "3        21137                 3946         Organic Strawberries\n",
              "4        47209                 3390         Organic Hass Avocado\n",
              "5        21903                 3336         Organic Baby Spinach\n",
              "6        47766                 3044              Organic Avocado\n",
              "7        19660                 2336                 Spring Water\n",
              "8        16797                 2308                 Strawberries\n",
              "9        27966                 2024          Organic Raspberries\n",
              "10       44632                 1914   Sparkling Water Grapefruit\n",
              "11       49235                 1797          Organic Half & Half\n",
              "12       47626                 1737                  Large Lemon\n",
              "13         196                 1733                         Soda\n",
              "14       38689                 1397     Organic Reduced Fat Milk\n",
              "15       26209                 1370                        Limes\n",
              "16       12341                 1340                Hass Avocados\n",
              "17        5785                 1310  Organic Reduced Fat 2% Milk\n",
              "18       27086                 1309                  Half & Half\n",
              "19       22935                 1246         Organic Yellow Onion"
            ]
          },
          "execution_count": 69,
          "metadata": {},
          "output_type": "execute_result"
        }
      ],
      "source": [
        "# Filtrar solo los productos que fueron añadidos en primer lugar\n",
        "first_in_cart = order_products[order_products['add_to_cart_order'] == 1]\n",
        "\n",
        "# Contar cuántas veces cada producto fue el primero en el carrito\n",
        "first_counts = first_in_cart['product_id'].value_counts().head(20).reset_index()\n",
        "first_counts.columns = ['product_id', 'first_in_cart_count']\n",
        "\n",
        "# Unir con nombres de productos\n",
        "top_first_products = first_counts.merge(products[['product_id', 'product_name']], on='product_id')\n",
        "\n",
        "# Ordenar para visualización\n",
        "top_first_products = top_first_products.sort_values(by='first_in_cart_count', ascending=False)\n",
        "\n",
        "# Mostrar resultados\n",
        "top_first_products"
      ]
    },
    {
      "cell_type": "code",
      "execution_count": null,
      "id": "08e41ec2",
      "metadata": {
        "id": "08e41ec2",
        "outputId": "0a9f38de-3128-4ca1-893c-c1f45553656e"
      },
      "outputs": [
        {
          "data": {
            "image/png": "[encoded data removed]",
            "text/plain": [
              "<Figure size 1000x800 with 1 Axes>"
            ]
          },
          "metadata": {},
          "output_type": "display_data"
        }
      ],
      "source": [
        "# Graficar los productos más comunes como primeros en el carrito\n",
        "top_first_products.plot(\n",
        "    kind='barh',\n",
        "    x='product_name',\n",
        "    y='first_in_cart_count',\n",
        "    legend=False,\n",
        "    figsize=(10, 8),\n",
        "    color='salmon',\n",
        "    edgecolor='black',\n",
        "    title='Top 20 productos agregados primero al carrito',\n",
        "    xlabel='Veces como primer producto',\n",
        "    ylabel='Producto'\n",
        ")\n",
        "\n",
        "plt.tight_layout()\n",
        "plt.show()"
      ]
    },
    {
      "cell_type": "markdown",
      "id": "28ce9872",
      "metadata": {
        "id": "28ce9872"
      },
      "source": [
        "Escribe aquí tus conclusiones\n",
        "\n",
        "<div style=\"background-color:#d4edda; padding: 10px; border-radius: 5px;\">\n",
        "\n",
        "1. Frutas básicas dominan el inicio de compras:  \n",
        "- Banana y Bag of Organic Bananas son con gran diferencia los productos más comúnmente agregados primero. Esto indica que son productos altamente prioritarios o de consumo recurrente para la mayoría de los clientes.\n",
        "- Su presencia destacada podría estar relacionada con su alta demanda, bajo precio o necesidad frecuente de reposición.  \n",
        "\n",
        "\n",
        "2. Preferencia por productos frescos y orgánicos:\n",
        "- Muchos de los productos en el top (como Organic Strawberries, Organic Avocado, Organic Baby Spinach) son frescos y/o orgánicos.\n",
        "- Esto sugiere una fuerte inclinación del público hacia opciones saludables desde el inicio de su experiencia de compra.\n",
        "\n",
        "3. Lácteos y bebidas también tienen presencia importante:\n",
        "- Productos como Organic Whole Milk, Half & Half y Spring Water son prioritarios, probablemente por su uso diario en hogares y necesidad frecuente de reposición."
      ]
    },
    {
      "cell_type": "markdown",
      "id": "uITbFCEoDosC",
      "metadata": {
        "id": "uITbFCEoDosC"
      },
      "source": [
        "### Conclusion general del proyecto:"
      ]
    },
    {
      "cell_type": "markdown",
      "id": "e2dbc8cb-1e59-4194-b66c-a79759b2aedc",
      "metadata": {
        "id": "e2dbc8cb-1e59-4194-b66c-a79759b2aedc"
      },
      "source": [
        "<div style=\"background-color:#d4edda; padding: 10px; border-radius: 5px;\">\n",
        "\n",
        "## Resumen Ejecutivo: Análisis de Comportamiento de Compra en Instacart\n",
        "### Contexto del proyecto\n",
        "Instacart es una plataforma de entregas de comestibles que permite a los usuarios realizar pedidos en línea y recibirlos en casa. Con el objetivo de conocer mejor los hábitos de compra de sus clientes, se  realizó un estudio exploratorio a partir de un subconjunto de datos representativo, el cual fue modificado intencionalmente para incluir valores ausentes y duplicados, aunque preservando la estructura y las distribuciones originales.\n",
        "\n",
        "El conjunto analizado está compuesto por cinco tablas principales: 'orders', 'order_products', 'products', 'aisles' y 'departments'. Estas contienen información detallada sobre los pedidos, productos, categorías y comportamiento de compra, permitiendo una visión completa del ciclo de consumo.\n",
        "\n",
        "### Metodología\n",
        "El análisis se dividió en tres bloques de complejidad creciente:\n",
        "\n",
        "1. [A] Preprocesamiento.  \n",
        "\n",
        "Se identificaron y eliminaron registros duplicados para evitar sesgos en los análisis. También se manejaron los valores nulos según su impacto en las variables clave. Se integraron múltiples tablas para construir un modelo de datos consolidado, facilitando el cruce de información entre productos, usuarios y pedidos.\n",
        "\n",
        "2. [B] Análisis exploratorio intermedio.  \n",
        "\n",
        "Se desarrollaron visualizaciones que permitieron responder preguntas sobre los productos más populares, los más reordenados, y las conductas generales de compra por cliente. Se utilizó groupby, merge y distintos tipos de gráficos (hist, barh) para representar la información de forma clara y comprensible.\n",
        "\n",
        "3. [C] Análisis avanzado.  \n",
        "\n",
        "El bloque más complejo se enfocó en métricas específicas como la proporción de reordenamiento por producto y por cliente, y la identificación de los productos más frecuentemente colocados primero en los carritos. Estas métricas permitieron inferir niveles de fidelidad, hábitos recurrentes y productos ancla dentro de los patrones de compra.\n",
        "\n",
        "\n",
        "### Principales hallazgos\n",
        "- Comportamiento de los clientes:  \n",
        "La mayoría de los usuarios realiza pocos pedidos y en general repiten productos. Se observó una distribución sesgada a la derecha en la cantidad de pedidos por cliente.\n",
        "\n",
        "- Productos más pedidos y más reordenados:  \n",
        "Frutas y productos orgánicos dominan ambas categorías, destacando el plátano y las fresas orgánicas. Esto indica un alto grado de fidelización hacia productos frescos y saludables.\n",
        "\n",
        "- Proporción de reordenamiento por producto:  \n",
        "Algunos productos, como ciertos tipos de leche, agua purificada y yogures, tienen tasas de reordenamiento superiores al 85%, lo que sugiere hábitos de compra altamente repetitivos en categorías esenciales.\n",
        "\n",
        "- Proporción de reordenamiento por cliente:  \n",
        "Existen distintos perfiles de usuarios: desde quienes rara vez repiten productos hasta quienes lo hacen en más del 80% de sus pedidos. Esta segmentación es clave para diseñar campañas personalizadas.\n",
        "\n",
        "- Productos añadidos primero al carrito:  \n",
        "Los productos colocados primero suelen ser básicos, como plátanos, leche o agua. Esto confirma su rol como “productos ancla” en la decisión de compra.\n",
        "\n",
        "### Recomendaciones Estratégicas\n",
        "Con base en los hallazgos, se sugieren las siguientes acciones concretas de marketing y negocio:\n",
        "\n",
        "1. Campañas de reordenamiento automático:\n",
        "- Activar recordatorios personalizados para los productos más reordenados con mensajes como:\"¿Quieres repetir tu última compra de [producto] esta semana?\"\n",
        "- Implementar un botón de \"reordenar mis esenciales\" con los productos más frecuentes de cada usuario.\n",
        "\n",
        "2. Cross-selling basado en patrones de fidelidad:\n",
        "- Ofrecer recomendaciones complementarias en productos con alto reorder ratio, por ejemplo: \"Quienes compran leche orgánica también piden pan integral artesanal.\"\n",
        "- Crear combos promocionales de productos recurrentes.\n",
        "\n",
        "3. Posicionamiento de productos ancla:\n",
        "- Dar visibilidad prioritaria a productos que suelen ser los primeros en el carrito (como el plátano o la leche), ya que su presencia parece motivar la continuación de la compra.\n",
        "\n",
        "4. Segmentación de clientes por comportamiento:\n",
        "- Etiquetar a los usuarios según su ratio de reordenamiento y personalizar mensajes:\n",
        "  - A los “exploradores”: sugerencias de nuevos productos o lanzamientos.\n",
        "  - A los “leales”: descuentos por repetición o beneficios por fidelidad.\n",
        "\n",
        "5. Optimización del inventario y distribución:\n",
        "- Garantizar alta disponibilidad y entregas prioritarias para los productos con alta frecuencia de pedido y reordenamiento.\n",
        "- Alinear el surtido de almacén según los productos ancla para mejorar la eficiencia logística.\n",
        "\n",
        "### Conclusión General\n",
        "El análisis permitió identificar patrones claros de consumo en Instacart, con una fuerte inclinación hacia productos orgánicos, saludables y de alta recurrencia. La plataforma cuenta con una base sólida de clientes con comportamientos estables, lo cual representa una gran oportunidad para fortalecer la fidelización mediante acciones de marketing personalizadas, automatización de reordenamientos y una gestión más eficiente del surtido y distribución.\n",
        "\n",
        "El enfoque analítico empleado integró diversas fuentes de datos y aplicó técnicas de limpieza, agrupación y visualización para obtener insights accionables. La claridad en los hallazgos y la propuesta estratégica responden a los objetivos del análisis, alineándose con las mejores prácticas de análisis de datos para e-commerce.\n",
        "\n"
      ]
    }
  ],
  "metadata": {
    "colab": {
      "provenance": []
    },
    "kernelspec": {
      "display_name": "Python 3 (ipykernel)",
      "language": "python",
      "name": "python3"
    },
    "language_info": {
      "codemirror_mode": {
        "name": "ipython",
        "version": 3
      },
      "file_extension": ".py",
      "mimetype": "text/x-python",
      "name": "python",
      "nbconvert_exporter": "python",
      "pygments_lexer": "ipython3",
      "version": "3.9.23"
    },
    "vscode": {
      "interpreter": {
        "hash": "01a7be9ec63e704a62cefc5fe7a4756944464ee731be31632bdf42a4cb4688cf"
      }
    }
  },
  "nbformat": 4,
  "nbformat_minor": 5
}